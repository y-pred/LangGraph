{
  "nbformat": 4,
  "nbformat_minor": 0,
  "metadata": {
    "colab": {
      "provenance": []
    },
    "kernelspec": {
      "name": "python3",
      "display_name": "Python 3"
    },
    "language_info": {
      "name": "python"
    }
  },
  "cells": [
    {
      "cell_type": "code",
      "execution_count": null,
      "metadata": {
        "id": "UNj-69S0wSac"
      },
      "outputs": [],
      "source": [
        "!pip install langchain\n",
        "!pip install openai\n",
        "!pip install langchain-community langchain\n",
        "!pip install langgraph\n",
        "!pip install -U langchain langchain-openai"
      ]
    },
    {
      "cell_type": "code",
      "source": [
        "from typing import Annotated, TypedDict, List\n",
        "from langgraph.graph import StateGraph, END, START\n",
        "from operator import add"
      ],
      "metadata": {
        "id": "HArYT7rXw75X"
      },
      "execution_count": 79,
      "outputs": []
    },
    {
      "cell_type": "markdown",
      "source": [
        "##Annotated with Integers: Simple Counter"
      ],
      "metadata": {
        "id": "RnTWVwJp0XAd"
      }
    },
    {
      "cell_type": "code",
      "source": [
        "class MyState(TypedDict):\n",
        "  attempts: Annotated[int, add]\n",
        "  # The 'add' operator here tells LangGraph to add a new integer value\n",
        "  # to the existing 'attempts' value, rather than overwriting it."
      ],
      "metadata": {
        "id": "Jp5TLa3zxCfe"
      },
      "execution_count": 62,
      "outputs": []
    },
    {
      "cell_type": "code",
      "source": [
        "def run_task(state: MyState)-> MyState:\n",
        "  print(\"Running Task.......\")\n",
        "\n",
        "  return {\"attempts\": 1}\n",
        "  # This node returns 1, which will be added to the attempts count.\n",
        "\n",
        "def check_attempts(state:MyState)->str:\n",
        "  print(\"Task number:\", state['attempts'])\n",
        "  if state[\"attempts\"]>3:\n",
        "    print(\"Task failed after 3 attempts.\")\n",
        "    return 'end'\n",
        "  else:\n",
        "    print(\"Retrying task...\")\n",
        "    return 'continue'"
      ],
      "metadata": {
        "id": "6nrXY9gixZve"
      },
      "execution_count": 63,
      "outputs": []
    },
    {
      "cell_type": "code",
      "source": [
        "graph = StateGraph(MyState)\n",
        "\n",
        "graph.add_node('run_task', run_task)\n",
        "graph.add_edge(START, 'run_task')\n",
        "graph.add_conditional_edges(\n",
        "    'run_task',\n",
        "    check_attempts,\n",
        "    {\n",
        "        'end':END,\n",
        "        'continue':'run_task'\n",
        "    })\n",
        "\n",
        "graph.compile()\n"
      ],
      "metadata": {
        "colab": {
          "base_uri": "https://localhost:8080/",
          "height": 349
        },
        "id": "R80mKk51yhkv",
        "outputId": "d0a7b3a0-beb9-4fbb-cc96-c95cfb0c50c8"
      },
      "execution_count": 64,
      "outputs": [
        {
          "output_type": "execute_result",
          "data": {
            "text/plain": [
              "<langgraph.graph.state.CompiledStateGraph object at 0x7d22db2a4650>"
            ],
            "image/png": "[encoded data removed]"
          },
          "metadata": {},
          "execution_count": 64
        }
      ]
    },
    {
      "cell_type": "code",
      "source": [
        "app = graph.compile()"
      ],
      "metadata": {
        "id": "pa18LOhIz2MB"
      },
      "execution_count": 65,
      "outputs": []
    },
    {
      "cell_type": "code",
      "source": [
        "app.invoke({'attempts':0})"
      ],
      "metadata": {
        "colab": {
          "base_uri": "https://localhost:8080/"
        },
        "id": "WAC7U86Iz4I-",
        "outputId": "94b93db1-1cbb-40a6-d650-9df0eb65ae5a"
      },
      "execution_count": 66,
      "outputs": [
        {
          "output_type": "stream",
          "name": "stdout",
          "text": [
            "Running Task.......\n",
            "Task number: 1\n",
            "Retrying task...\n",
            "Running Task.......\n",
            "Task number: 2\n",
            "Retrying task...\n",
            "Running Task.......\n",
            "Task number: 3\n",
            "Retrying task...\n",
            "Running Task.......\n",
            "Task number: 4\n",
            "Task failed after 3 attempts.\n"
          ]
        },
        {
          "output_type": "execute_result",
          "data": {
            "text/plain": [
              "{'attempts': 4}"
            ]
          },
          "metadata": {},
          "execution_count": 66
        }
      ]
    },
    {
      "cell_type": "markdown",
      "source": [
        "##Annotated with string"
      ],
      "metadata": {
        "id": "xa4hrFt30cFO"
      }
    },
    {
      "cell_type": "code",
      "source": [
        "import operator"
      ],
      "metadata": {
        "id": "qmzkBHp91fjH"
      },
      "execution_count": 25,
      "outputs": []
    },
    {
      "cell_type": "code",
      "source": [
        "class StatusState(TypedDict):\n",
        "  status_log: Annotated[str,operator.concat]"
      ],
      "metadata": {
        "id": "jyMjQ_020a_t"
      },
      "execution_count": 36,
      "outputs": []
    },
    {
      "cell_type": "code",
      "source": [
        "def start_process(state:StatusState)-> StatusState:\n",
        "  return {'status_log': 'Process Started....\\n'}\n",
        "\n",
        "def perform_step_one(state: StatusState) -> StatusState:\n",
        "    return {\"status_log\": \"Step 1 completed.\\n\"}\n",
        "\n",
        "def perform_step_two(state: StatusState) -> StatusState:\n",
        "    return {\"status_log\": \"Step 2 completed.\\n\"}\n",
        "\n",
        "def finalize_process(state: StatusState) -> StatusState:\n",
        "    return {\"status_log\": \"Process finalized.\\n\"}"
      ],
      "metadata": {
        "id": "jJ-McG9g1oBt"
      },
      "execution_count": 40,
      "outputs": []
    },
    {
      "cell_type": "code",
      "source": [
        "# Build the graph\n",
        "workflow = StateGraph(StatusState)\n",
        "workflow.add_node(\"start\", start_process)\n",
        "workflow.add_node(\"step_one\", perform_step_one)\n",
        "workflow.add_node(\"step_two\", perform_step_two)\n",
        "workflow.add_node(\"finalize\", finalize_process)\n",
        "\n",
        "workflow.add_edge(START, \"step_one\")\n",
        "workflow.add_edge(\"step_one\", \"step_two\")\n",
        "workflow.add_edge(\"step_two\", \"finalize\")\n",
        "workflow.add_edge(\"finalize\", END)\n",
        "workflow.set_entry_point(\"start\")\n",
        "\n",
        "app = workflow.compile()"
      ],
      "metadata": {
        "id": "iR1Tgui62EEe"
      },
      "execution_count": 41,
      "outputs": []
    },
    {
      "cell_type": "code",
      "source": [
        "app.invoke({'status_log':\"\"})"
      ],
      "metadata": {
        "colab": {
          "base_uri": "https://localhost:8080/"
        },
        "id": "y3htgQC22LBn",
        "outputId": "9239c087-e9cb-4d6b-be6b-6b76fb523736"
      },
      "execution_count": 42,
      "outputs": [
        {
          "output_type": "execute_result",
          "data": {
            "text/plain": [
              "{'status_log': 'Process Started....\\nStep 1 completed.\\nStep 2 completed.\\nProcess finalized.\\n'}"
            ]
          },
          "metadata": {},
          "execution_count": 42
        }
      ]
    },
    {
      "cell_type": "markdown",
      "source": [
        "##Annotated with HumanMessage and AIMessage"
      ],
      "metadata": {
        "id": "bFlDY63t2lRX"
      }
    },
    {
      "cell_type": "code",
      "source": [
        "from langgraph.graph.message import add_messages\n",
        "from langchain_core.messages import BaseMessage, HumanMessage, AIMessage"
      ],
      "metadata": {
        "id": "oedxMRQp2vbF"
      },
      "execution_count": 43,
      "outputs": []
    },
    {
      "cell_type": "code",
      "source": [
        "class AgentState(TypedDict):\n",
        "  messages: Annotated[list[BaseMessage], add_messages]\n",
        "  # The `add_messages` function is a special reducer.\n",
        "  # Instead of overwriting the 'messages' list, it appends new messages to it."
      ],
      "metadata": {
        "id": "w_BQWoQS28vF"
      },
      "execution_count": 75,
      "outputs": []
    },
    {
      "cell_type": "code",
      "source": [
        "def add_human_message(state: AgentState)-> AgentState:\n",
        "    new_message = HumanMessage(content=\"Hello how are you?\")\n",
        "    return {'messages':[new_message]}\n",
        "\n",
        "def add_ai_message(state: AgentState)-> AgentState:\n",
        "    new_message = AIMessage(content=\"I am a bot Jarvis. How can I assist you today?\")\n",
        "    return {'messages':[new_message]}"
      ],
      "metadata": {
        "id": "AtOl3je33Hwt"
      },
      "execution_count": 76,
      "outputs": []
    },
    {
      "cell_type": "code",
      "source": [
        "# Build the graph\n",
        "workflow = StateGraph(AgentState)\n",
        "workflow.add_node(\"human\", add_human_message)\n",
        "workflow.add_node(\"AI\", add_ai_message)\n",
        "\n",
        "\n",
        "workflow.add_edge(START, \"human\")\n",
        "workflow.add_edge(\"human\",\"AI\")\n",
        "workflow.add_edge(\"AI\", END)\n",
        "\n",
        "\n",
        "app = workflow.compile()"
      ],
      "metadata": {
        "id": "UtaOuz6T3oGd"
      },
      "execution_count": 77,
      "outputs": []
    },
    {
      "cell_type": "code",
      "source": [
        "app.invoke({\"messages\":[]})"
      ],
      "metadata": {
        "colab": {
          "base_uri": "https://localhost:8080/"
        },
        "id": "t4j7CIGn4FR3",
        "outputId": "04c0d971-38a4-459a-b1e1-cb9844fc144a"
      },
      "execution_count": 78,
      "outputs": [
        {
          "output_type": "execute_result",
          "data": {
            "text/plain": [
              "{'messages': [HumanMessage(content='Hello how are you?', additional_kwargs={}, response_metadata={}, id='a363a43c-3e69-424a-a1be-0d8f154efdda'),\n",
              "  AIMessage(content='I am a bot Jarvis. How can I assist you today?', additional_kwargs={}, response_metadata={}, id='e981f67c-52cc-47b1-94da-51d8a54325cb')]}"
            ]
          },
          "metadata": {},
          "execution_count": 78
        }
      ]
    },
    {
      "cell_type": "markdown",
      "source": [
        "##Integrated Example: AI & Human Messages with Status and a Counter"
      ],
      "metadata": {
        "id": "1FryKUxt57kG"
      }
    },
    {
      "cell_type": "code",
      "source": [
        "class IntegratedState(TypedDict):\n",
        "  messages: Annotated[List[BaseMessage],add_messages]\n",
        "  attempts: Annotated[int,add]\n",
        "  status:Annotated[str,add]"
      ],
      "metadata": {
        "id": "vmxuwdtX57TO"
      },
      "execution_count": 83,
      "outputs": []
    },
    {
      "cell_type": "code",
      "source": [
        "def initial_ai_response(state: IntegratedState)-> IntegratedState:\n",
        "  print('AI first response')\n",
        "  ai_message = AIMessage(content=\"Hi, this is first attempt to solve the problem\")\n",
        "  return {\n",
        "      'messages': ai_message,\n",
        "      'attempts':1,\n",
        "      'status': \"Initial Attempt\\n\"\n",
        "      }\n",
        "\n",
        "# Node 2: A conditional router that checks attempts and the user's response\n",
        "def should_continue_or_escalate(state: IntegratedState) -> str:\n",
        "    current_attempts = state.get(\"attempts\", 0)\n",
        "\n",
        "    # Get the last message from the user\n",
        "    #last_user_message = next((msg for msg in reversed(state[\"messages\"]) if isinstance(msg, HumanMessage)), None)\n",
        "    last_user_message = None\n",
        "    # Iterate through the messages in reverse order (from most recent to oldest)\n",
        "    for msg in reversed(state[\"messages\"]):\n",
        "        # Check if the current message is a HumanMessage\n",
        "        if isinstance(msg, HumanMessage):\n",
        "            # If it is, store it and stop searching (we found the most recent one)\n",
        "            last_user_message = msg\n",
        "            break\n",
        "\n",
        "    # If we've hit the attempt limit or the user's message indicates failure, escalate.\n",
        "    if current_attempts >= 3 or (last_user_message and \"didn't work\" in last_user_message.content.lower()):\n",
        "        return \"escalate_to_human\"\n",
        "    else:\n",
        "        return \"retry_with_ai\"\n",
        "\n",
        "# Node 3: The AI retries the task\n",
        "def retry_with_ai(state: IntegratedState) -> IntegratedState:\n",
        "    ai_msg = AIMessage(content=f\"Attempt {state['attempts'] + 1} to solve the problem.\")\n",
        "    print(f\"AI: {ai_msg.content}\")\n",
        "    return {\"messages\": [ai_msg], \"attempts\": 1, \"status\": f\"Attempt {state['attempts'] + 1} in progress.\\n\"}\n",
        "\n",
        "# Node 4: The human escalation node (a simple print statement for demonstration)\n",
        "def escalate_to_human(state: IntegratedState) -> IntegratedState:\n",
        "    human_escalation_msg = HumanMessage(content=\"Escalating the problem to a human expert.\")\n",
        "    print(f\"Agent: {human_escalation_msg.content}\")\n",
        "    return {\"messages\": [human_escalation_msg], \"status\": \"Problem escalated.\\n\"}"
      ],
      "metadata": {
        "id": "M6Lrh6_L8WWV"
      },
      "execution_count": 84,
      "outputs": []
    },
    {
      "cell_type": "code",
      "source": [
        "# Build the graph\n",
        "workflow = StateGraph(IntegratedState)\n",
        "workflow.add_node(\"initial_ai_response\", initial_ai_response)\n",
        "workflow.add_node(\"retry_with_ai\", retry_with_ai)\n",
        "workflow.add_node(\"escalate_to_human\", escalate_to_human)\n",
        "\n",
        "workflow.add_edge(\"initial_ai_response\", \"retry_with_ai\")\n",
        "workflow.add_conditional_edges(\"retry_with_ai\", should_continue_or_escalate, {\n",
        "    \"retry_with_ai\": \"retry_with_ai\",\n",
        "    \"escalate_to_human\": \"escalate_to_human\"\n",
        "})\n",
        "workflow.add_edge(\"escalate_to_human\", END)\n",
        "workflow.set_entry_point(\"initial_ai_response\")\n",
        "\n",
        "app = workflow.compile()\n",
        "\n",
        "# Example 1: The AI successfully solves the problem within 3 attempts.\n",
        "# The user's input would be a message like \"Thank you, that worked!\"\n",
        "# To simulate this, we would use a different router or break the loop.\n",
        "\n",
        "# Example 2: The AI fails and escalates after a few attempts.\n",
        "# The `invoke` call would be a series of messages from the user like \"That didn't work.\"\n",
        "final_state = app.invoke({\"messages\": [HumanMessage(content=\"My system is not working.\")], \"attempts\": 0, \"status\": \"Problem received.\\n\"})\n",
        "\n",
        "# In a real application, the `invoke` call would be iterative with user input.\n",
        "# This example simplifies it to show the conditional routing logic."
      ],
      "metadata": {
        "colab": {
          "base_uri": "https://localhost:8080/"
        },
        "id": "wA4YYiflAHoG",
        "outputId": "3fc33d46-177e-4cfc-ac0b-f48e8250c224"
      },
      "execution_count": 85,
      "outputs": [
        {
          "output_type": "stream",
          "name": "stdout",
          "text": [
            "AI first response\n",
            "AI: Attempt 2 to solve the problem.\n",
            "AI: Attempt 3 to solve the problem.\n",
            "Agent: Escalating the problem to a human expert.\n"
          ]
        }
      ]
    }
  ]
}