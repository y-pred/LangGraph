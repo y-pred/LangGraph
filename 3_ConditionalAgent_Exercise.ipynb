{
  "nbformat": 4,
  "nbformat_minor": 0,
  "metadata": {
    "colab": {
      "provenance": []
    },
    "kernelspec": {
      "name": "python3",
      "display_name": "Python 3"
    },
    "language_info": {
      "name": "python"
    }
  },
  "cells": [
    {
      "cell_type": "code",
      "execution_count": null,
      "metadata": {
        "id": "_naldyvNucLm"
      },
      "outputs": [],
      "source": [
        "!pip install langgraph"
      ]
    },
    {
      "cell_type": "code",
      "source": [
        "from typing import TypedDict\n",
        "from langgraph.graph import StateGraph, START, END"
      ],
      "metadata": {
        "id": "RTmGiFR8upLC"
      },
      "execution_count": 2,
      "outputs": []
    },
    {
      "cell_type": "code",
      "source": [
        "class AgentType(TypedDict):\n",
        "    number1: int\n",
        "    number2: int\n",
        "    operator1: str\n",
        "    result1: int\n",
        "\n",
        "    number3: int\n",
        "    number4: int\n",
        "    operator2: str\n",
        "    result2: int\n",
        "\n"
      ],
      "metadata": {
        "id": "A_WeApZ-u4va"
      },
      "execution_count": 32,
      "outputs": []
    },
    {
      "cell_type": "code",
      "source": [
        "def adder(state: AgentType) -> AgentType:\n",
        "  \"\"\"This is a function that adds two numbers\"\"\"\n",
        "  state[\"result1\"] = state[\"number1\"] + state[\"number2\"]\n",
        "  return state\n",
        "\n",
        "def subtractor(state: AgentType) -> AgentType:\n",
        "  \"\"\"This is a function that subtracts two numbers\"\"\"\n",
        "  state[\"result1\"] = state[\"number1\"] - state[\"number2\"]\n",
        "  return state\n",
        "\n",
        "def decider(state: AgentType) -> AgentType:\n",
        "  \"\"\"This function decides which operation to use\"\"\"\n",
        "  if state[\"operator1\"] == \"+\":\n",
        "    return \"addition_operation\"\n",
        "  elif state[\"operator1\"] == \"-\":\n",
        "    return \"subtraction_operation\"\n"
      ],
      "metadata": {
        "id": "Z-ikxJ23vNcU"
      },
      "execution_count": 33,
      "outputs": []
    },
    {
      "cell_type": "code",
      "source": [
        "def adder2(state: AgentType) -> AgentType:\n",
        "  \"\"\"This is a function that adds two numbers\"\"\"\n",
        "  state[\"result2\"] = state[\"number3\"] + state[\"number4\"]\n",
        "  return state\n",
        "\n",
        "def subtractor2(state: AgentType) -> AgentType:\n",
        "  \"\"\"This is a function that subtracts two numbers\"\"\"\n",
        "  state[\"result2\"] = state[\"number3\"] - state[\"number4\"]\n",
        "  return state\n",
        "\n",
        "def decider2(state: AgentType) -> AgentType:\n",
        "  \"\"\"This function decides which operation to use\"\"\"\n",
        "  if state[\"operator2\"] == \"+\":\n",
        "    return \"addition_operation\"\n",
        "  elif state[\"operator2\"] == \"-\":\n",
        "    return \"subtraction_operation\""
      ],
      "metadata": {
        "id": "rFmF1ajjBjPk"
      },
      "execution_count": 34,
      "outputs": []
    },
    {
      "cell_type": "code",
      "source": [
        "graph = StateGraph(AgentType)\n",
        "graph.add_node(\"add_node\", adder)\n",
        "graph.add_node(\"sub_node\", subtractor)\n",
        "graph.add_node(\"decide_node1\", lambda state: state)\n",
        "\n",
        "#Adding edges\n",
        "graph.add_edge(START,\"decide_node1\")\n",
        "#Conditional Edge 1\n",
        "graph.add_conditional_edges(\n",
        "    \"decide_node1\",\n",
        "    decider,\n",
        "    {\n",
        "        \"addition_operation\":\"add_node\",\n",
        "        \"subtraction_operation\":\"sub_node\"\n",
        "    }\n",
        ")\n",
        "\n",
        "graph.add_node(\"decide_node2\", lambda state: state)\n",
        "graph.add_node(\"add_node2\", adder2)\n",
        "graph.add_node(\"sub_node2\", subtractor2)\n",
        "\n",
        "#Adding edges\n",
        "graph.add_edge(\"add_node\",\"decide_node2\")\n",
        "graph.add_edge(\"sub_node\",\"decide_node2\")\n",
        "\n",
        "#Conditional Edge 2\n",
        "graph.add_conditional_edges(\n",
        "    \"decide_node2\",\n",
        "    decider,\n",
        "    {\n",
        "        \"addition_operation\":\"add_node2\",\n",
        "        \"subtraction_operation\":\"sub_node2\"\n",
        "    }\n",
        ")\n",
        "\n",
        "graph.add_edge(\"add_node2\",END)\n",
        "graph.add_edge(\"sub_node2\",END)\n",
        "\n",
        "app = graph.compile()"
      ],
      "metadata": {
        "id": "TGLVR7UswGcD"
      },
      "execution_count": 35,
      "outputs": []
    },
    {
      "cell_type": "code",
      "source": [
        "from IPython.display import Image, display"
      ],
      "metadata": {
        "id": "Z4v0-7yeyf6M"
      },
      "execution_count": 7,
      "outputs": []
    },
    {
      "cell_type": "code",
      "source": [
        "display(Image(app.get_graph().draw_mermaid_png()))"
      ],
      "metadata": {
        "colab": {
          "base_uri": "https://localhost:8080/",
          "height": 596
        },
        "id": "giPKTPZeyh57",
        "outputId": "ce40070c-6f09-4bdb-9c81-09fef31722e2"
      },
      "execution_count": 28,
      "outputs": [
        {
          "output_type": "display_data",
          "data": {
            "image/png": "[encoded data removed]",
            "text/plain": [
              "<IPython.core.display.Image object>"
            ]
          },
          "metadata": {}
        }
      ]
    },
    {
      "cell_type": "code",
      "source": [
        "result = app.invoke({\"number1\":1,\"number2\":3, \"number3\":5, \"number4\":9, \"operator1\":\"+\", \"operator2\":\"-\"})"
      ],
      "metadata": {
        "id": "ik4iYf0hzBgU"
      },
      "execution_count": 36,
      "outputs": []
    },
    {
      "cell_type": "code",
      "source": [
        "result[\"result1\"]"
      ],
      "metadata": {
        "colab": {
          "base_uri": "https://localhost:8080/"
        },
        "id": "x2z-n78xA4mS",
        "outputId": "42cbd4dd-888f-4e04-b568-b4d0af237ce5"
      },
      "execution_count": 38,
      "outputs": [
        {
          "output_type": "execute_result",
          "data": {
            "text/plain": [
              "4"
            ]
          },
          "metadata": {},
          "execution_count": 38
        }
      ]
    }
  ]
}