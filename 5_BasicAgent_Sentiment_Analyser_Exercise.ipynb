{
  "nbformat": 4,
  "nbformat_minor": 0,
  "metadata": {
    "colab": {
      "provenance": []
    },
    "kernelspec": {
      "name": "python3",
      "display_name": "Python 3"
    },
    "language_info": {
      "name": "python"
    }
  },
  "cells": [
    {
      "cell_type": "markdown",
      "source": [
        "## Problem Statement:\n",
        "Create a LangGraph agent that classifies the sentiment of a user’s message into one of:\n",
        "\n",
        "\n",
        "*   Positive\n",
        "*   Negative\n",
        "*   Neutral\n",
        "\n",
        "\n",
        "\n",
        "# Agent Structure:\n",
        "\n",
        "**Nodes**: classify_sentiment_node:\n",
        "\n",
        "Uses ChatOpenAI to classify the sentiment\n",
        "\n",
        "Returns one of \"positive\", \"negative\", \"neutral\" based on the response\n",
        "\n",
        "**respond_positive_node**: Says something encouraging like “Glad to hear that!”\n",
        "\n",
        "**respond_negative_node:** Apologizes or offers support\n",
        "\n",
        "**respond_neutral_node:** Gives a neutral acknowledgment\n",
        "\n",
        "**fallback_node:** Handles unclear output"
      ],
      "metadata": {
        "id": "qy2mFENpcRxn"
      }
    },
    {
      "cell_type": "code",
      "execution_count": null,
      "metadata": {
        "id": "I1Arav4YXr23"
      },
      "outputs": [],
      "source": [
        "!pip install langchain\n",
        "!pip install openai\n",
        "!pip install langchain-community langchain\n",
        "!pip install langgraph\n",
        "!pip install -U langchain langchain-openai"
      ]
    },
    {
      "cell_type": "code",
      "source": [
        "import os\n",
        "\n",
        "os.environ[\"OPENAI_API_KEY\"] = 'OPENAI_API_KEY'\n",
        "os.environ[\"LANGCHAIN_TRACING_V2\"] = \"true\"\n",
        "os.environ[\"LANGCHAIN_API_KEY\"] = 'LANGCHAIN_API_KEY'\n",
        "os.environ[\"LANGCHAIN_PROJECT\"] = \"Langgraph Agents\"\n",
        "os.environ[\"LANGSMITH_ENDPOINT\"] = \"https://api.smith.langchain.com\""
      ],
      "metadata": {
        "id": "JcTgImNgXzcg"
      },
      "execution_count": 3,
      "outputs": []
    },
    {
      "cell_type": "code",
      "source": [
        "from langchain.chat_models import ChatOpenAI\n",
        "from langgraph.graph import StateGraph, START, END\n",
        "from typing import TypedDict, List\n",
        "from langchain_core.messages import HumanMessage"
      ],
      "metadata": {
        "id": "dSiDOt_Qc2Wn"
      },
      "execution_count": 4,
      "outputs": []
    },
    {
      "cell_type": "code",
      "source": [
        "from langchain_core.output_parsers import StrOutputParser"
      ],
      "metadata": {
        "id": "djhrt-WU2j1q"
      },
      "execution_count": 8,
      "outputs": []
    },
    {
      "cell_type": "code",
      "source": [
        "class SentimentAnalysis(TypedDict):\n",
        "  messages:List[HumanMessage]\n",
        "  sentiment: str\n",
        "  response: str"
      ],
      "metadata": {
        "id": "hq_m3TeRca9u"
      },
      "execution_count": 43,
      "outputs": []
    },
    {
      "cell_type": "code",
      "source": [
        "llm = ChatOpenAI()\n",
        "parser = StrOutputParser()"
      ],
      "metadata": {
        "id": "7FTx-f5v02BZ"
      },
      "execution_count": 32,
      "outputs": []
    },
    {
      "cell_type": "code",
      "source": [
        "#This node classifies the response\n",
        "def classification_node(state: SentimentAnalysis) -> SentimentAnalysis:\n",
        "  response = state['messages']\n",
        "  prompt = f\"What is the sentiment of this sentence? Respond with only one word: Positive, Negative, or Neutral.\\nSentence: '{response}'\"\n",
        "  result = llm.invoke(prompt)\n",
        "  sentiment = parser.invoke(result)\n",
        "  if sentiment.strip().lower() == \"positive\":\n",
        "    state[\"sentiment\"] = \"positive\"\n",
        "    return state\n",
        "  elif sentiment.strip().lower() == \"negative\":\n",
        "    state[\"sentiment\"] = \"negative\"\n",
        "    return state\n",
        "  elif sentiment.strip().lower() == \"neutral\":\n",
        "    state[\"sentiment\"] = \"neutral\"\n",
        "    return state\n",
        "  else:\n",
        "    state[\"sentiment\"] = \"unclear\"\n",
        "    return state\n",
        "\n",
        "def positive_node(state: SentimentAnalysis)-> SentimentAnalysis:\n",
        "  state[\"response\"] = \"Glad to hear this\"\n",
        "  return state\n",
        "\n",
        "def negative_node(state: SentimentAnalysis)-> SentimentAnalysis:\n",
        "  state[\"response\"] = \"Thanks for the feedback. We will work on this\"\n",
        "  return state\n",
        "\n",
        "def neutral_node(state: SentimentAnalysis)-> SentimentAnalysis:\n",
        "  state[\"response\"] = \"Thank you for your feedback\"\n",
        "  return state\n",
        "\n",
        "def unclear_node(state: SentimentAnalysis)-> SentimentAnalysis:\n",
        "  state[\"sentiment\"] = \"Sorry, I couldn't understand the sentimentt\"\n",
        "  return state"
      ],
      "metadata": {
        "id": "UXDCqxNkYPmN"
      },
      "execution_count": 55,
      "outputs": []
    },
    {
      "cell_type": "code",
      "source": [
        "graph = StateGraph(SentimentAnalysis)\n",
        "\n",
        "graph.add_node(\"classification\", classification_node)\n",
        "graph.add_node(\"positive\", positive_node)\n",
        "graph.add_node(\"negative\", negative_node)\n",
        "graph.add_node(\"neutral\", neutral_node)\n",
        "graph.add_node(\"unclear\", unclear_node)\n",
        "\n",
        "graph.add_edge(START,\"classification\")\n",
        "\n",
        "#Since this is a graph node and it returns state, so we have to return state[\"sentiment\"] instead of a string\n",
        "graph.add_conditional_edges(\n",
        "    \"classification\",\n",
        "    lambda state: state[\"sentiment\"],\n",
        "    {\n",
        "        \"positive\": \"positive\",\n",
        "        \"negative\": \"negative\",\n",
        "        \"neutral\": \"neutral\",\n",
        "        \"unclear\": \"unclear\"\n",
        "    }\n",
        ")\n",
        "graph.add_edge(\"positive\", END)\n",
        "graph.add_edge(\"negative\", END)\n",
        "graph.add_edge(\"neutral\", END)\n",
        "graph.add_edge(\"unclear\", END)\n",
        "\n",
        "app = graph.compile()"
      ],
      "metadata": {
        "id": "4e65Opes_7_L"
      },
      "execution_count": 56,
      "outputs": []
    },
    {
      "cell_type": "code",
      "source": [
        "app"
      ],
      "metadata": {
        "colab": {
          "base_uri": "https://localhost:8080/",
          "height": 350
        },
        "id": "5dueh0IaBgNc",
        "outputId": "293a42fe-702f-491a-8cac-0095cfeb52a3"
      },
      "execution_count": 57,
      "outputs": [
        {
          "output_type": "execute_result",
          "data": {
            "text/plain": [
              "<langgraph.graph.state.CompiledStateGraph object at 0x7f4fce3aa210>"
            ],
            "image/png": "[encoded data removed]"
          },
          "metadata": {},
          "execution_count": 57
        }
      ]
    },
    {
      "cell_type": "code",
      "source": [
        "result = app.invoke({\"messages\":[HumanMessage(content=\"Hi, this restaurent servers awesome food?\")]})"
      ],
      "metadata": {
        "id": "rDldIPGeBjRJ"
      },
      "execution_count": 58,
      "outputs": []
    },
    {
      "cell_type": "code",
      "source": [
        "result"
      ],
      "metadata": {
        "colab": {
          "base_uri": "https://localhost:8080/"
        },
        "id": "oW2Ni8DVE6cb",
        "outputId": "27180169-6862-4457-f90d-6363ae2a915b"
      },
      "execution_count": 59,
      "outputs": [
        {
          "output_type": "execute_result",
          "data": {
            "text/plain": [
              "{'messages': [HumanMessage(content='Hi, this restaurent servers awesome food?', additional_kwargs={}, response_metadata={})],\n",
              " 'sentiment': 'positive',\n",
              " 'response': 'Glad to hear this'}"
            ]
          },
          "metadata": {},
          "execution_count": 59
        }
      ]
    },
    {
      "cell_type": "markdown",
      "source": [
        "Langsmith tracebility: https://smith.langchain.com/public/c79f736f-79e9-44da-8dfe-89d06e0bde9e/r"
      ],
      "metadata": {
        "id": "L890AxV8IZ6b"
      }
    }
  ]
}