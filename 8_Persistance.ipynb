{
  "nbformat": 4,
  "nbformat_minor": 0,
  "metadata": {
    "colab": {
      "provenance": []
    },
    "kernelspec": {
      "name": "python3",
      "display_name": "Python 3"
    },
    "language_info": {
      "name": "python"
    }
  },
  "cells": [
    {
      "cell_type": "code",
      "source": [
        "!pip install langchain\n",
        "!pip install openai\n",
        "!pip install langchain-community langchain\n",
        "!pip install langgraph\n",
        "!pip install -U langchain langchain-openai"
      ],
      "metadata": {
        "id": "yMRcUAT2qZ6O"
      },
      "execution_count": null,
      "outputs": []
    },
    {
      "cell_type": "code",
      "execution_count": 2,
      "metadata": {
        "id": "aZfrPfwLqXn4"
      },
      "outputs": [],
      "source": [
        "import os\n",
        "os.environ[\"OPENAI_API_KEY\"] = 'OPENAI_API_KEY'\n",
        "os.environ[\"LANGCHAIN_TRACING_V2\"] = \"true\"\n",
        "os.environ[\"LANGCHAIN_API_KEY\"] = 'LANGCHAIN_API_KEY'\n",
        "os.environ[\"LANGCHAIN_PROJECT\"] = \"Langgraph_1\"\n",
        "os.environ[\"LANGSMITH_ENDPOINT\"] = \"https://api.smith.langchain.com\""
      ]
    },
    {
      "cell_type": "code",
      "source": [
        "from langgraph.graph import StateGraph, START, END\n",
        "from typing import TypedDict\n",
        "from langchain_openai import ChatOpenAI\n",
        "from langgraph.checkpoint.memory import InMemorySaver"
      ],
      "metadata": {
        "id": "tkv3mZgVeu6I"
      },
      "execution_count": 3,
      "outputs": []
    },
    {
      "cell_type": "code",
      "source": [
        "llm = ChatOpenAI()"
      ],
      "metadata": {
        "id": "4Bz6a3j9f7ZQ"
      },
      "execution_count": 4,
      "outputs": []
    },
    {
      "cell_type": "code",
      "source": [
        "class JokeState(TypedDict):\n",
        "\n",
        "    topic: str\n",
        "    joke: str\n",
        "    explanation: str"
      ],
      "metadata": {
        "id": "blyoW3wjf9zh"
      },
      "execution_count": 5,
      "outputs": []
    },
    {
      "cell_type": "code",
      "source": [
        "def generate_joke_node(state: JokeState) -> JokeState:\n",
        "  prompt = f\"generate a joke on the topic: {state['topic']}\"\n",
        "  response = llm.invoke(prompt)\n",
        "  return {'joke': response}"
      ],
      "metadata": {
        "id": "8l9A7u6vgPYS"
      },
      "execution_count": 8,
      "outputs": []
    },
    {
      "cell_type": "code",
      "source": [
        "def explain_joke_node(state:JokeState)-> JokeState:\n",
        "  prompt = f\"explain the joke:{state['joke']}\"\n",
        "  response = llm.invoke(prompt)\n",
        "  return {'explanation': response}"
      ],
      "metadata": {
        "id": "lrIuenoCgu3V"
      },
      "execution_count": 9,
      "outputs": []
    },
    {
      "cell_type": "code",
      "source": [
        "graph = StateGraph(JokeState)\n",
        "\n",
        "graph.add_node(\"generate_joke\",generate_joke_node)\n",
        "graph.add_node(\"explain_joke\",explain_joke_node)\n",
        "\n",
        "graph.add_edge(START,\"generate_joke\")\n",
        "graph.add_edge(\"generate_joke\",\"explain_joke\")\n",
        "graph.add_edge(\"explain_joke\",END)\n",
        "\n",
        "checkpointer = InMemorySaver()\n",
        "\n",
        "app = graph.compile(checkpointer = checkpointer)\n"
      ],
      "metadata": {
        "id": "tnQP4W-Fg-zk"
      },
      "execution_count": 12,
      "outputs": []
    },
    {
      "cell_type": "code",
      "source": [
        "workflow1 = {\"configurable\":{\"thread_id\":\"1\"}}\n",
        "app.invoke({'topic':'AI'}, config = workflow1)"
      ],
      "metadata": {
        "colab": {
          "base_uri": "https://localhost:8080/"
        },
        "id": "mSL6k0zpj4Hr",
        "outputId": "23eb205d-c448-4789-c1af-30825ab47a1c"
      },
      "execution_count": 13,
      "outputs": [
        {
          "output_type": "execute_result",
          "data": {
            "text/plain": [
              "{'topic': 'AI',\n",
              " 'joke': AIMessage(content='Why did the robot go to therapy? \\nBecause it had too many unresolved issues in its programming!', additional_kwargs={'refusal': None}, response_metadata={'token_usage': {'completion_tokens': 20, 'prompt_tokens': 15, 'total_tokens': 35, 'completion_tokens_details': {'accepted_prediction_tokens': 0, 'audio_tokens': 0, 'reasoning_tokens': 0, 'rejected_prediction_tokens': 0}, 'prompt_tokens_details': {'audio_tokens': 0, 'cached_tokens': 0}}, 'model_name': 'gpt-3.5-turbo-0125', 'system_fingerprint': None, 'id': 'chatcmpl-C1PjeHizPVzotrUowA2s5h2FC4MVN', 'service_tier': 'default', 'finish_reason': 'stop', 'logprobs': None}, id='run--037a9798-7455-4f88-93bd-faa9e9078324-0', usage_metadata={'input_tokens': 15, 'output_tokens': 20, 'total_tokens': 35, 'input_token_details': {'audio': 0, 'cache_read': 0}, 'output_token_details': {'audio': 0, 'reasoning': 0}}),\n",
              " 'explanation': AIMessage(content='The joke plays on the concept of a robot needing therapy like a human would for mental health issues. By saying the robot had \"unresolved issues in its programming,\" it\\'s a play on words that suggests the robot\\'s problems are not emotional or psychological but rather technical or related to its programming code. The humor comes from the unexpected twist on the idea of a robot seeking therapy.', additional_kwargs={'refusal': None}, response_metadata={'token_usage': {'completion_tokens': 76, 'prompt_tokens': 287, 'total_tokens': 363, 'completion_tokens_details': {'accepted_prediction_tokens': 0, 'audio_tokens': 0, 'reasoning_tokens': 0, 'rejected_prediction_tokens': 0}, 'prompt_tokens_details': {'audio_tokens': 0, 'cached_tokens': 0}}, 'model_name': 'gpt-3.5-turbo-0125', 'system_fingerprint': None, 'id': 'chatcmpl-C1Pjfb5epsNjQbwiIDvXotgRJCOAl', 'service_tier': 'default', 'finish_reason': 'stop', 'logprobs': None}, id='run--8992b7a4-ef5a-4347-89c8-53937c9cdab1-0', usage_metadata={'input_tokens': 287, 'output_tokens': 76, 'total_tokens': 363, 'input_token_details': {'audio': 0, 'cache_read': 0}, 'output_token_details': {'audio': 0, 'reasoning': 0}})}"
            ]
          },
          "metadata": {},
          "execution_count": 13
        }
      ]
    },
    {
      "cell_type": "code",
      "source": [
        "app.get_state(workflow1)"
      ],
      "metadata": {
        "colab": {
          "base_uri": "https://localhost:8080/"
        },
        "id": "ooLZadRJkQnv",
        "outputId": "4d3d3c98-b8eb-4974-829c-530bc5b16461"
      },
      "execution_count": 14,
      "outputs": [
        {
          "output_type": "execute_result",
          "data": {
            "text/plain": [
              "StateSnapshot(values={'topic': 'AI', 'joke': AIMessage(content='Why did the robot go to therapy? \\nBecause it had too many unresolved issues in its programming!', additional_kwargs={'refusal': None}, response_metadata={'token_usage': {'completion_tokens': 20, 'prompt_tokens': 15, 'total_tokens': 35, 'completion_tokens_details': {'accepted_prediction_tokens': 0, 'audio_tokens': 0, 'reasoning_tokens': 0, 'rejected_prediction_tokens': 0}, 'prompt_tokens_details': {'audio_tokens': 0, 'cached_tokens': 0}}, 'model_name': 'gpt-3.5-turbo-0125', 'system_fingerprint': None, 'id': 'chatcmpl-C1PjeHizPVzotrUowA2s5h2FC4MVN', 'service_tier': 'default', 'finish_reason': 'stop', 'logprobs': None}, id='run--037a9798-7455-4f88-93bd-faa9e9078324-0', usage_metadata={'input_tokens': 15, 'output_tokens': 20, 'total_tokens': 35, 'input_token_details': {'audio': 0, 'cache_read': 0}, 'output_token_details': {'audio': 0, 'reasoning': 0}}), 'explanation': AIMessage(content='The joke plays on the concept of a robot needing therapy like a human would for mental health issues. By saying the robot had \"unresolved issues in its programming,\" it\\'s a play on words that suggests the robot\\'s problems are not emotional or psychological but rather technical or related to its programming code. The humor comes from the unexpected twist on the idea of a robot seeking therapy.', additional_kwargs={'refusal': None}, response_metadata={'token_usage': {'completion_tokens': 76, 'prompt_tokens': 287, 'total_tokens': 363, 'completion_tokens_details': {'accepted_prediction_tokens': 0, 'audio_tokens': 0, 'reasoning_tokens': 0, 'rejected_prediction_tokens': 0}, 'prompt_tokens_details': {'audio_tokens': 0, 'cached_tokens': 0}}, 'model_name': 'gpt-3.5-turbo-0125', 'system_fingerprint': None, 'id': 'chatcmpl-C1Pjfb5epsNjQbwiIDvXotgRJCOAl', 'service_tier': 'default', 'finish_reason': 'stop', 'logprobs': None}, id='run--8992b7a4-ef5a-4347-89c8-53937c9cdab1-0', usage_metadata={'input_tokens': 287, 'output_tokens': 76, 'total_tokens': 363, 'input_token_details': {'audio': 0, 'cache_read': 0}, 'output_token_details': {'audio': 0, 'reasoning': 0}})}, next=(), config={'configurable': {'thread_id': '1', 'checkpoint_ns': '', 'checkpoint_id': '1f0727af-84a6-6ae9-8002-ca6771db2c42'}}, metadata={'source': 'loop', 'step': 2, 'parents': {}}, created_at='2025-08-06T04:08:12.568836+00:00', parent_config={'configurable': {'thread_id': '1', 'checkpoint_ns': '', 'checkpoint_id': '1f0727af-778b-6bb3-8001-3c49dd9e4e8b'}}, tasks=(), interrupts=())"
            ]
          },
          "metadata": {},
          "execution_count": 14
        }
      ]
    },
    {
      "cell_type": "code",
      "source": [
        "list(app.get_state_history(workflow1))"
      ],
      "metadata": {
        "colab": {
          "base_uri": "https://localhost:8080/"
        },
        "id": "-OmvBfL_koop",
        "outputId": "508883c5-b846-4a2e-e6bf-a34c4d489ad9"
      },
      "execution_count": 16,
      "outputs": [
        {
          "output_type": "execute_result",
          "data": {
            "text/plain": [
              "[StateSnapshot(values={'topic': 'AI', 'joke': AIMessage(content='Why did the robot go to therapy? \\nBecause it had too many unresolved issues in its programming!', additional_kwargs={'refusal': None}, response_metadata={'token_usage': {'completion_tokens': 20, 'prompt_tokens': 15, 'total_tokens': 35, 'completion_tokens_details': {'accepted_prediction_tokens': 0, 'audio_tokens': 0, 'reasoning_tokens': 0, 'rejected_prediction_tokens': 0}, 'prompt_tokens_details': {'audio_tokens': 0, 'cached_tokens': 0}}, 'model_name': 'gpt-3.5-turbo-0125', 'system_fingerprint': None, 'id': 'chatcmpl-C1PjeHizPVzotrUowA2s5h2FC4MVN', 'service_tier': 'default', 'finish_reason': 'stop', 'logprobs': None}, id='run--037a9798-7455-4f88-93bd-faa9e9078324-0', usage_metadata={'input_tokens': 15, 'output_tokens': 20, 'total_tokens': 35, 'input_token_details': {'audio': 0, 'cache_read': 0}, 'output_token_details': {'audio': 0, 'reasoning': 0}}), 'explanation': AIMessage(content='The joke plays on the concept of a robot needing therapy like a human would for mental health issues. By saying the robot had \"unresolved issues in its programming,\" it\\'s a play on words that suggests the robot\\'s problems are not emotional or psychological but rather technical or related to its programming code. The humor comes from the unexpected twist on the idea of a robot seeking therapy.', additional_kwargs={'refusal': None}, response_metadata={'token_usage': {'completion_tokens': 76, 'prompt_tokens': 287, 'total_tokens': 363, 'completion_tokens_details': {'accepted_prediction_tokens': 0, 'audio_tokens': 0, 'reasoning_tokens': 0, 'rejected_prediction_tokens': 0}, 'prompt_tokens_details': {'audio_tokens': 0, 'cached_tokens': 0}}, 'model_name': 'gpt-3.5-turbo-0125', 'system_fingerprint': None, 'id': 'chatcmpl-C1Pjfb5epsNjQbwiIDvXotgRJCOAl', 'service_tier': 'default', 'finish_reason': 'stop', 'logprobs': None}, id='run--8992b7a4-ef5a-4347-89c8-53937c9cdab1-0', usage_metadata={'input_tokens': 287, 'output_tokens': 76, 'total_tokens': 363, 'input_token_details': {'audio': 0, 'cache_read': 0}, 'output_token_details': {'audio': 0, 'reasoning': 0}})}, next=(), config={'configurable': {'thread_id': '1', 'checkpoint_ns': '', 'checkpoint_id': '1f0727af-84a6-6ae9-8002-ca6771db2c42'}}, metadata={'source': 'loop', 'step': 2, 'parents': {}}, created_at='2025-08-06T04:08:12.568836+00:00', parent_config={'configurable': {'thread_id': '1', 'checkpoint_ns': '', 'checkpoint_id': '1f0727af-778b-6bb3-8001-3c49dd9e4e8b'}}, tasks=(), interrupts=()),\n",
              " StateSnapshot(values={'topic': 'AI', 'joke': AIMessage(content='Why did the robot go to therapy? \\nBecause it had too many unresolved issues in its programming!', additional_kwargs={'refusal': None}, response_metadata={'token_usage': {'completion_tokens': 20, 'prompt_tokens': 15, 'total_tokens': 35, 'completion_tokens_details': {'accepted_prediction_tokens': 0, 'audio_tokens': 0, 'reasoning_tokens': 0, 'rejected_prediction_tokens': 0}, 'prompt_tokens_details': {'audio_tokens': 0, 'cached_tokens': 0}}, 'model_name': 'gpt-3.5-turbo-0125', 'system_fingerprint': None, 'id': 'chatcmpl-C1PjeHizPVzotrUowA2s5h2FC4MVN', 'service_tier': 'default', 'finish_reason': 'stop', 'logprobs': None}, id='run--037a9798-7455-4f88-93bd-faa9e9078324-0', usage_metadata={'input_tokens': 15, 'output_tokens': 20, 'total_tokens': 35, 'input_token_details': {'audio': 0, 'cache_read': 0}, 'output_token_details': {'audio': 0, 'reasoning': 0}})}, next=('explain_joke',), config={'configurable': {'thread_id': '1', 'checkpoint_ns': '', 'checkpoint_id': '1f0727af-778b-6bb3-8001-3c49dd9e4e8b'}}, metadata={'source': 'loop', 'step': 1, 'parents': {}}, created_at='2025-08-06T04:08:11.194648+00:00', parent_config={'configurable': {'thread_id': '1', 'checkpoint_ns': '', 'checkpoint_id': '1f0727af-6d2f-67b3-8000-d655e78075aa'}}, tasks=(PregelTask(id='e8759bf4-25ed-79b5-f917-25ab967bff3f', name='explain_joke', path=('__pregel_pull', 'explain_joke'), error=None, interrupts=(), state=None, result={'explanation': AIMessage(content='The joke plays on the concept of a robot needing therapy like a human would for mental health issues. By saying the robot had \"unresolved issues in its programming,\" it\\'s a play on words that suggests the robot\\'s problems are not emotional or psychological but rather technical or related to its programming code. The humor comes from the unexpected twist on the idea of a robot seeking therapy.', additional_kwargs={'refusal': None}, response_metadata={'token_usage': {'completion_tokens': 76, 'prompt_tokens': 287, 'total_tokens': 363, 'completion_tokens_details': {'accepted_prediction_tokens': 0, 'audio_tokens': 0, 'reasoning_tokens': 0, 'rejected_prediction_tokens': 0}, 'prompt_tokens_details': {'audio_tokens': 0, 'cached_tokens': 0}}, 'model_name': 'gpt-3.5-turbo-0125', 'system_fingerprint': None, 'id': 'chatcmpl-C1Pjfb5epsNjQbwiIDvXotgRJCOAl', 'service_tier': 'default', 'finish_reason': 'stop', 'logprobs': None}, id='run--8992b7a4-ef5a-4347-89c8-53937c9cdab1-0', usage_metadata={'input_tokens': 287, 'output_tokens': 76, 'total_tokens': 363, 'input_token_details': {'audio': 0, 'cache_read': 0}, 'output_token_details': {'audio': 0, 'reasoning': 0}})}),), interrupts=()),\n",
              " StateSnapshot(values={'topic': 'AI'}, next=('generate_joke',), config={'configurable': {'thread_id': '1', 'checkpoint_ns': '', 'checkpoint_id': '1f0727af-6d2f-67b3-8000-d655e78075aa'}}, metadata={'source': 'loop', 'step': 0, 'parents': {}}, created_at='2025-08-06T04:08:10.108280+00:00', parent_config={'configurable': {'thread_id': '1', 'checkpoint_ns': '', 'checkpoint_id': '1f0727af-6d2c-61bc-bfff-2d0e62ac670b'}}, tasks=(PregelTask(id='bc4777c7-e14f-10f8-cf73-65b0899d79a5', name='generate_joke', path=('__pregel_pull', 'generate_joke'), error=None, interrupts=(), state=None, result={'joke': AIMessage(content='Why did the robot go to therapy? \\nBecause it had too many unresolved issues in its programming!', additional_kwargs={'refusal': None}, response_metadata={'token_usage': {'completion_tokens': 20, 'prompt_tokens': 15, 'total_tokens': 35, 'completion_tokens_details': {'accepted_prediction_tokens': 0, 'audio_tokens': 0, 'reasoning_tokens': 0, 'rejected_prediction_tokens': 0}, 'prompt_tokens_details': {'audio_tokens': 0, 'cached_tokens': 0}}, 'model_name': 'gpt-3.5-turbo-0125', 'system_fingerprint': None, 'id': 'chatcmpl-C1PjeHizPVzotrUowA2s5h2FC4MVN', 'service_tier': 'default', 'finish_reason': 'stop', 'logprobs': None}, id='run--037a9798-7455-4f88-93bd-faa9e9078324-0', usage_metadata={'input_tokens': 15, 'output_tokens': 20, 'total_tokens': 35, 'input_token_details': {'audio': 0, 'cache_read': 0}, 'output_token_details': {'audio': 0, 'reasoning': 0}})}),), interrupts=()),\n",
              " StateSnapshot(values={}, next=('__start__',), config={'configurable': {'thread_id': '1', 'checkpoint_ns': '', 'checkpoint_id': '1f0727af-6d2c-61bc-bfff-2d0e62ac670b'}}, metadata={'source': 'input', 'step': -1, 'parents': {}}, created_at='2025-08-06T04:08:10.106897+00:00', parent_config=None, tasks=(PregelTask(id='a735ca8a-6916-88dd-a6bd-ec74728e4a43', name='__start__', path=('__pregel_pull', '__start__'), error=None, interrupts=(), state=None, result={'topic': 'AI'}),), interrupts=())]"
            ]
          },
          "metadata": {},
          "execution_count": 16
        }
      ]
    },
    {
      "cell_type": "code",
      "source": [
        "workflow2 = {\"configurable\":{\"thread_id\":\"2\"}}\n",
        "app.invoke({'topic':'Burger'}, config = workflow2)"
      ],
      "metadata": {
        "colab": {
          "base_uri": "https://localhost:8080/"
        },
        "id": "ldHKfY1wlCM9",
        "outputId": "75ddd5ec-1f87-4b09-b9f2-6cf823d8b557"
      },
      "execution_count": 17,
      "outputs": [
        {
          "output_type": "execute_result",
          "data": {
            "text/plain": [
              "{'topic': 'Burger',\n",
              " 'joke': AIMessage(content='Why did the burger go to the gym? \\nTo get better buns!', additional_kwargs={'refusal': None}, response_metadata={'token_usage': {'completion_tokens': 16, 'prompt_tokens': 15, 'total_tokens': 31, 'completion_tokens_details': {'accepted_prediction_tokens': 0, 'audio_tokens': 0, 'reasoning_tokens': 0, 'rejected_prediction_tokens': 0}, 'prompt_tokens_details': {'audio_tokens': 0, 'cached_tokens': 0}}, 'model_name': 'gpt-3.5-turbo-0125', 'system_fingerprint': None, 'id': 'chatcmpl-C1Pnd96vJO0tlxqm4mIMa43XF0s8Y', 'service_tier': 'default', 'finish_reason': 'stop', 'logprobs': None}, id='run--df4b2d2b-a4d5-43eb-a8f0-ed93e9012377-0', usage_metadata={'input_tokens': 15, 'output_tokens': 16, 'total_tokens': 31, 'input_token_details': {'audio': 0, 'cache_read': 0}, 'output_token_details': {'audio': 0, 'reasoning': 0}}),\n",
              " 'explanation': AIMessage(content='This joke plays on the double meaning of \"buns,\" which can refer to both the bread buns of a burger and a person\\'s buttocks. The humor comes from the idea of a burger going to the gym to improve its buns, suggesting that the burger is working out to have better bread buns rather than improving its physical fitness.', additional_kwargs={'refusal': None}, response_metadata={'token_usage': {'completion_tokens': 70, 'prompt_tokens': 286, 'total_tokens': 356, 'completion_tokens_details': {'accepted_prediction_tokens': 0, 'audio_tokens': 0, 'reasoning_tokens': 0, 'rejected_prediction_tokens': 0}, 'prompt_tokens_details': {'audio_tokens': 0, 'cached_tokens': 0}}, 'model_name': 'gpt-3.5-turbo-0125', 'system_fingerprint': None, 'id': 'chatcmpl-C1PneD8qDscrDsiMqnlElnhT1iZO2', 'service_tier': 'default', 'finish_reason': 'stop', 'logprobs': None}, id='run--b66f74d1-ff8e-4e60-a593-8a56eb4b5e24-0', usage_metadata={'input_tokens': 286, 'output_tokens': 70, 'total_tokens': 356, 'input_token_details': {'audio': 0, 'cache_read': 0}, 'output_token_details': {'audio': 0, 'reasoning': 0}})}"
            ]
          },
          "metadata": {},
          "execution_count": 17
        }
      ]
    },
    {
      "cell_type": "code",
      "source": [
        "app.get_state(workflow1)"
      ],
      "metadata": {
        "colab": {
          "base_uri": "https://localhost:8080/"
        },
        "id": "lvelIV8QlSxm",
        "outputId": "8a72a8f9-52ea-4fc2-c459-8349e1c5408d"
      },
      "execution_count": 18,
      "outputs": [
        {
          "output_type": "execute_result",
          "data": {
            "text/plain": [
              "StateSnapshot(values={'topic': 'AI', 'joke': AIMessage(content='Why did the robot go to therapy? \\nBecause it had too many unresolved issues in its programming!', additional_kwargs={'refusal': None}, response_metadata={'token_usage': {'completion_tokens': 20, 'prompt_tokens': 15, 'total_tokens': 35, 'completion_tokens_details': {'accepted_prediction_tokens': 0, 'audio_tokens': 0, 'reasoning_tokens': 0, 'rejected_prediction_tokens': 0}, 'prompt_tokens_details': {'audio_tokens': 0, 'cached_tokens': 0}}, 'model_name': 'gpt-3.5-turbo-0125', 'system_fingerprint': None, 'id': 'chatcmpl-C1PjeHizPVzotrUowA2s5h2FC4MVN', 'service_tier': 'default', 'finish_reason': 'stop', 'logprobs': None}, id='run--037a9798-7455-4f88-93bd-faa9e9078324-0', usage_metadata={'input_tokens': 15, 'output_tokens': 20, 'total_tokens': 35, 'input_token_details': {'audio': 0, 'cache_read': 0}, 'output_token_details': {'audio': 0, 'reasoning': 0}}), 'explanation': AIMessage(content='The joke plays on the concept of a robot needing therapy like a human would for mental health issues. By saying the robot had \"unresolved issues in its programming,\" it\\'s a play on words that suggests the robot\\'s problems are not emotional or psychological but rather technical or related to its programming code. The humor comes from the unexpected twist on the idea of a robot seeking therapy.', additional_kwargs={'refusal': None}, response_metadata={'token_usage': {'completion_tokens': 76, 'prompt_tokens': 287, 'total_tokens': 363, 'completion_tokens_details': {'accepted_prediction_tokens': 0, 'audio_tokens': 0, 'reasoning_tokens': 0, 'rejected_prediction_tokens': 0}, 'prompt_tokens_details': {'audio_tokens': 0, 'cached_tokens': 0}}, 'model_name': 'gpt-3.5-turbo-0125', 'system_fingerprint': None, 'id': 'chatcmpl-C1Pjfb5epsNjQbwiIDvXotgRJCOAl', 'service_tier': 'default', 'finish_reason': 'stop', 'logprobs': None}, id='run--8992b7a4-ef5a-4347-89c8-53937c9cdab1-0', usage_metadata={'input_tokens': 287, 'output_tokens': 76, 'total_tokens': 363, 'input_token_details': {'audio': 0, 'cache_read': 0}, 'output_token_details': {'audio': 0, 'reasoning': 0}})}, next=(), config={'configurable': {'thread_id': '1', 'checkpoint_ns': '', 'checkpoint_id': '1f0727af-84a6-6ae9-8002-ca6771db2c42'}}, metadata={'source': 'loop', 'step': 2, 'parents': {}}, created_at='2025-08-06T04:08:12.568836+00:00', parent_config={'configurable': {'thread_id': '1', 'checkpoint_ns': '', 'checkpoint_id': '1f0727af-778b-6bb3-8001-3c49dd9e4e8b'}}, tasks=(), interrupts=())"
            ]
          },
          "metadata": {},
          "execution_count": 18
        }
      ]
    }
  ]
}