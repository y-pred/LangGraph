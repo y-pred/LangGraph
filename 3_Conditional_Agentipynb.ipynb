{
  "nbformat": 4,
  "nbformat_minor": 0,
  "metadata": {
    "colab": {
      "provenance": []
    },
    "kernelspec": {
      "name": "python3",
      "display_name": "Python 3"
    },
    "language_info": {
      "name": "python"
    }
  },
  "cells": [
    {
      "cell_type": "code",
      "source": [
        "!pip install langgraph"
      ],
      "metadata": {
        "id": "pWKcVrc4LUTi"
      },
      "execution_count": null,
      "outputs": []
    },
    {
      "cell_type": "code",
      "execution_count": 4,
      "metadata": {
        "id": "a6C7eChIKZKS"
      },
      "outputs": [],
      "source": [
        "from typing import TypedDict\n",
        "from langgraph.graph import StateGraph, START, END"
      ]
    },
    {
      "cell_type": "code",
      "source": [
        "class AgentState(TypedDict):\n",
        "  first_num: int\n",
        "  second_num: int\n",
        "  operator: str\n",
        "  result: int"
      ],
      "metadata": {
        "id": "hdD1x2D0LflA"
      },
      "execution_count": 10,
      "outputs": []
    },
    {
      "cell_type": "code",
      "source": [
        "def adder(state: AgentType) -> AgentType:\n",
        "  \"\"\"This is a function that adds two numbers\"\"\"\n",
        "  state[\"result\"] = state[\"first_num\"] + state[\"second_num\"]\n",
        "  return state\n",
        "\n",
        "def subtractor(state: AgentType) -> AgentType:\n",
        "  \"\"\"This is a function that subtracts two numbers\"\"\"\n",
        "  state[\"result\"] = state[\"first_num\"] - state[\"second_num\"]\n",
        "  return state\n",
        "\n",
        "def decide_operator(state: AgentType) -> AgentType:\n",
        "  \"\"\"This is a function that decides which operator to use\"\"\"\n",
        "  if state[\"operator\"] == \"+\":\n",
        "    return \"addition_operation\"\n",
        "  elif state[\"operator\"] == \"-\":\n",
        "    return \"subtraction_operation\""
      ],
      "metadata": {
        "id": "ZZegRBchNTNv"
      },
      "execution_count": 27,
      "outputs": []
    },
    {
      "cell_type": "code",
      "source": [
        "graph = StateGraph(AgentState)\n",
        "graph.add_node(\"add_node\",adder)\n",
        "graph.add_node(\"sub_node\", subtractor)\n",
        "graph.add_node(\"decide_node\", lambda state: state)\n",
        "\n",
        "graph.add_edge(START, \"decide_node\")\n",
        "graph.add_conditional_edges(\n",
        "    \"decide_node\",\n",
        "    decide_operator,\n",
        "    {\n",
        "        \"addition_operation\":\"add_node\",\n",
        "        \"subtraction_operation\":\"sub_node\"\n",
        "    }\n",
        ")\n",
        "graph.add_edge(\"add_node\", END)\n",
        "graph.add_edge(\"sub_node\", END)\n",
        "\n",
        "app = graph.compile()\n"
      ],
      "metadata": {
        "id": "2zmS_pwHObtp"
      },
      "execution_count": 37,
      "outputs": []
    },
    {
      "cell_type": "code",
      "source": [
        "print(app.get_graph().draw_mermaid())"
      ],
      "metadata": {
        "colab": {
          "base_uri": "https://localhost:8080/"
        },
        "id": "E7DY1omNPEZj",
        "outputId": "dd92f309-6c2a-42ed-8014-b122d8f83b46"
      },
      "execution_count": 38,
      "outputs": [
        {
          "output_type": "stream",
          "name": "stdout",
          "text": [
            "---\n",
            "config:\n",
            "  flowchart:\n",
            "    curve: linear\n",
            "---\n",
            "graph TD;\n",
            "\t__start__([<p>__start__</p>]):::first\n",
            "\tadd_node(add_node)\n",
            "\tsub_node(sub_node)\n",
            "\tdecide_node(decide_node)\n",
            "\t__end__([<p>__end__</p>]):::last\n",
            "\t__start__ --> decide_node;\n",
            "\tdecide_node -. &nbsp;addition_operation&nbsp; .-> add_node;\n",
            "\tdecide_node -. &nbsp;subtraction_operation&nbsp; .-> sub_node;\n",
            "\tadd_node --> __end__;\n",
            "\tsub_node --> __end__;\n",
            "\tclassDef default fill:#f2f0ff,line-height:1.2\n",
            "\tclassDef first fill-opacity:0\n",
            "\tclassDef last fill:#bfb6fc\n",
            "\n"
          ]
        }
      ]
    },
    {
      "cell_type": "code",
      "source": [
        "from IPython.display import Image, display"
      ],
      "metadata": {
        "id": "Ji8uoH_uQq8H"
      },
      "execution_count": 21,
      "outputs": []
    },
    {
      "cell_type": "code",
      "source": [
        "display(Image(app.get_graph().draw_mermaid_png()))"
      ],
      "metadata": {
        "colab": {
          "base_uri": "https://localhost:8080/",
          "height": 374
        },
        "id": "kiTv9RDyQ6KI",
        "outputId": "9e9934c1-f60e-4538-afec-aa4eb7cbda41"
      },
      "execution_count": 39,
      "outputs": [
        {
          "output_type": "display_data",
          "data": {
            "image/png": "[encoded data removed]",
            "text/plain": [
              "<IPython.core.display.Image object>"
            ]
          },
          "metadata": {}
        }
      ]
    },
    {
      "cell_type": "code",
      "source": [
        "initial_state_1 = AgentState(first_num = 10, operator=\"-\", second_num = 5)\n",
        "print(app.invoke(initial_state_1))"
      ],
      "metadata": {
        "colab": {
          "base_uri": "https://localhost:8080/"
        },
        "id": "UOLE2JkHpx5r",
        "outputId": "474fc917-085b-484c-beb2-227526ca94d7"
      },
      "execution_count": 40,
      "outputs": [
        {
          "output_type": "stream",
          "name": "stdout",
          "text": [
            "{'first_num': 10, 'second_num': 5, 'operator': '-', 'result': 5}\n"
          ]
        }
      ]
    },
    {
      "cell_type": "code",
      "source": [
        "result = app.invoke({\"first_num\": 10, \"operator\": \"-\", \"second_num\": 5})\n",
        "print(result)"
      ],
      "metadata": {
        "colab": {
          "base_uri": "https://localhost:8080/"
        },
        "id": "TBy0jn8dqh9E",
        "outputId": "f1f343e3-4d61-421b-f32d-55a73e6ad44e"
      },
      "execution_count": 41,
      "outputs": [
        {
          "output_type": "stream",
          "name": "stdout",
          "text": [
            "{'first_num': 10, 'second_num': 5, 'operator': '-', 'result': 5}\n"
          ]
        }
      ]
    }
  ]
}