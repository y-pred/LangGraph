{
  "nbformat": 4,
  "nbformat_minor": 0,
  "metadata": {
    "colab": {
      "provenance": []
    },
    "kernelspec": {
      "name": "python3",
      "display_name": "Python 3"
    },
    "language_info": {
      "name": "python"
    }
  },
  "cells": [
    {
      "cell_type": "code",
      "execution_count": null,
      "metadata": {
        "id": "cIk27pyZbk6S"
      },
      "outputs": [],
      "source": [
        "!pip install langgraph"
      ]
    },
    {
      "cell_type": "code",
      "source": [
        "import os\n",
        "\n",
        "os.environ[\"OPENAI_API_KEY\"] = 'OPENAI_API_KEY'\n"
      ],
      "metadata": {
        "id": "oVy3GGwqcJhJ"
      },
      "execution_count": 27,
      "outputs": []
    },
    {
      "cell_type": "code",
      "source": [
        "from typing import TypedDict\n",
        "from langgraph.graph import StateGraph"
      ],
      "metadata": {
        "id": "_hKRd0EJccVr"
      },
      "execution_count": 28,
      "outputs": []
    },
    {
      "cell_type": "code",
      "source": [
        "class MultipleOpsState(TypedDict):\n",
        "  adder: list[int]\n",
        "  name: str\n",
        "\n"
      ],
      "metadata": {
        "id": "rtKWkxnhciI-"
      },
      "execution_count": 29,
      "outputs": []
    },
    {
      "cell_type": "code",
      "source": [
        "def add_num_node(state: MultipleOpsState):\n",
        "  \"\"\"This function adds numbers in a list\"\"\"\n",
        "  total = 0\n",
        "  for num in state[\"adder\"]:\n",
        "    total+= num\n",
        "\n",
        "  print(\"SUm total = \", total)\n",
        "\n",
        "def write_email_node(state: MultipleOpsState):\n",
        "  \"\"\"This function writes an email\"\"\"\n",
        "  print(f\"Hello {state['name']}\\n Hope you are doing fine. \\n Regards\\n Jarvis\")\n"
      ],
      "metadata": {
        "id": "3LQNS1Ovcmqj"
      },
      "execution_count": 30,
      "outputs": []
    },
    {
      "cell_type": "code",
      "source": [
        "graph = StateGraph(MultipleOpsState)\n",
        "\n",
        "graph.add_node(\"add\", add_num_node)\n",
        "graph.add_node(\"email\", write_email_node)\n",
        "graph.add_edge('add','email')\n",
        "graph.set_entry_point(\"add\")\n",
        "graph.set_finish_point(\"email\")\n",
        "\n",
        "app = graph.compile()"
      ],
      "metadata": {
        "id": "jQLFIcZRdJLU"
      },
      "execution_count": 33,
      "outputs": []
    },
    {
      "cell_type": "code",
      "source": [
        "app"
      ],
      "metadata": {
        "colab": {
          "base_uri": "https://localhost:8080/",
          "height": 350
        },
        "id": "7Ryb1h75d1oV",
        "outputId": "449dfe80-7f25-45e9-d4d4-cd2027eeb2e4"
      },
      "execution_count": 34,
      "outputs": [
        {
          "output_type": "execute_result",
          "data": {
            "text/plain": [
              "<langgraph.graph.state.CompiledStateGraph object at 0x7a1983290ef0>"
            ],
            "image/png": "[encoded data removed]"
          },
          "metadata": {},
          "execution_count": 34
        }
      ]
    },
    {
      "cell_type": "code",
      "source": [
        "result = app.invoke({'adder': [1,5,3],'name':'Ashish'})"
      ],
      "metadata": {
        "colab": {
          "base_uri": "https://localhost:8080/"
        },
        "id": "utKL6WiEd4AX",
        "outputId": "f24a8637-c543-4cc7-ad53-3117942f6f24"
      },
      "execution_count": 35,
      "outputs": [
        {
          "output_type": "stream",
          "name": "stdout",
          "text": [
            "SUm total =  9\n",
            "Hello Ashish\n",
            " Hope you are doing fine. \n",
            " Regards\n",
            " Jarvis\n"
          ]
        }
      ]
    },
    {
      "cell_type": "code",
      "source": [
        "result"
      ],
      "metadata": {
        "colab": {
          "base_uri": "https://localhost:8080/"
        },
        "id": "C2KfRvICesjY",
        "outputId": "5ed08b9c-257f-4d96-c883-9906f05386ca"
      },
      "execution_count": 36,
      "outputs": [
        {
          "output_type": "execute_result",
          "data": {
            "text/plain": [
              "{'adder': [1, 5, 3], 'name': 'Ashish'}"
            ]
          },
          "metadata": {},
          "execution_count": 36
        }
      ]
    }
  ]
}