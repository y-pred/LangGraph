{
  "nbformat": 4,
  "nbformat_minor": 0,
  "metadata": {
    "colab": {
      "provenance": []
    },
    "kernelspec": {
      "name": "python3",
      "display_name": "Python 3"
    },
    "language_info": {
      "name": "python"
    }
  },
  "cells": [
    {
      "cell_type": "code",
      "execution_count": null,
      "metadata": {
        "id": "0xk7TNs7BQ9W"
      },
      "outputs": [],
      "source": [
        "!pip install langgraph"
      ]
    },
    {
      "cell_type": "code",
      "source": [
        "from typing import TypedDict, List, Dict\n",
        "from langgraph.graph import StateGraph, START, END\n",
        "import random"
      ],
      "metadata": {
        "id": "xeqW0wLTEXYa"
      },
      "execution_count": 5,
      "outputs": []
    },
    {
      "cell_type": "code",
      "source": [
        "class AgentState(TypedDict):\n",
        "  name: str\n",
        "  number: List[str]\n",
        "  counter: int"
      ],
      "metadata": {
        "id": "8wSS7bubEgzL"
      },
      "execution_count": 6,
      "outputs": []
    },
    {
      "cell_type": "code",
      "source": [
        "def greeting_node(state: AgentState) -> AgentState:\n",
        "    \"\"\"Greeting Node which says hi to the person\"\"\"\n",
        "    state[\"name\"] = f\"Hi there, {state['name']}\"\n",
        "    state[\"counter\"] = 0\n",
        "\n",
        "    return state\n",
        "\n",
        "def random_node(state: AgentState) -> AgentState:\n",
        "  \"\"\"Generate Loop\"\"\"\n",
        "  state[\"counter\"]+=1\n",
        "  state[\"number\"].append(random.randint(0, 10))\n",
        "\n",
        "  return state\n",
        "\n",
        "def should_continue(state: AgentState)-> AgentState:\n",
        "  if state[\"counter\"]<5:\n",
        "    return \"loop\"\n",
        "  return \"exit\"\n"
      ],
      "metadata": {
        "id": "sYJtNaO-FECB"
      },
      "execution_count": 7,
      "outputs": []
    },
    {
      "cell_type": "code",
      "source": [
        "graph = StateGraph(AgentState)\n",
        "\n",
        "graph.add_node(\"greeting\",greeting_node)\n",
        "graph.add_node(\"loop\", random_node)\n",
        "\n",
        "graph.add_edge(START,\"greeting\")\n",
        "graph.add_edge(\"greeting\",\"loop\")\n",
        "graph.add_conditional_edges(\n",
        "    \"loop\",\n",
        "    should_continue,\n",
        "    {\n",
        "        \"loop\": \"loop\",\n",
        "        \"exit\": END\n",
        "    }\n",
        "\n",
        ")\n",
        "\n",
        "app = graph.compile()"
      ],
      "metadata": {
        "id": "LCicLCedIWHF"
      },
      "execution_count": 17,
      "outputs": []
    },
    {
      "cell_type": "code",
      "source": [
        "from IPython.display import Image, display"
      ],
      "metadata": {
        "id": "V_Mpg6hIawIx"
      },
      "execution_count": 15,
      "outputs": []
    },
    {
      "cell_type": "code",
      "source": [
        "display(Image(app.get_graph().draw_mermaid_png()))"
      ],
      "metadata": {
        "colab": {
          "base_uri": "https://localhost:8080/",
          "height": 424
        },
        "id": "HMNtEol6ayFA",
        "outputId": "e4810438-9d65-41e7-eb82-bb711ef50e8f"
      },
      "execution_count": 18,
      "outputs": [
        {
          "output_type": "display_data",
          "data": {
            "image/png": "[encoded data removed]",
            "text/plain": [
              "<IPython.core.display.Image object>"
            ]
          },
          "metadata": {}
        }
      ]
    },
    {
      "cell_type": "code",
      "source": [
        "result = app.invoke({\n",
        "    \"name\":\"Ashish\",\n",
        "    \"number\":[],\n",
        "    \"counter\": -10\n",
        "})"
      ],
      "metadata": {
        "id": "u5NqrmYIbSjj"
      },
      "execution_count": 19,
      "outputs": []
    },
    {
      "cell_type": "code",
      "source": [
        "result"
      ],
      "metadata": {
        "colab": {
          "base_uri": "https://localhost:8080/"
        },
        "id": "JMWvd34ebhF3",
        "outputId": "cb050d4e-05d2-492b-8f33-5d773d8f5c95"
      },
      "execution_count": 20,
      "outputs": [
        {
          "output_type": "execute_result",
          "data": {
            "text/plain": [
              "{'name': 'Hi there, Ashish', 'number': [5, 0, 9, 5, 4], 'counter': 5}"
            ]
          },
          "metadata": {},
          "execution_count": 20
        }
      ]
    }
  ]
}