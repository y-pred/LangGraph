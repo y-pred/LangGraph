{
  "nbformat": 4,
  "nbformat_minor": 0,
  "metadata": {
    "colab": {
      "provenance": []
    },
    "kernelspec": {
      "name": "python3",
      "display_name": "Python 3"
    },
    "language_info": {
      "name": "python"
    }
  },
  "cells": [
    {
      "cell_type": "markdown",
      "source": [
        "Your Grant Writer Reflection Agent code is ready — you’ll find it structured to:\n",
        "\n",
        "Generate a response to a grant question\n",
        "\n",
        "Critique it using multiple criteria\n",
        "\n",
        "Parse the score from critique\n",
        "\n",
        "Retry until the answer scores ≥ 8 or ends"
      ],
      "metadata": {
        "id": "AYZIu-bx65Jg"
      }
    },
    {
      "cell_type": "code",
      "execution_count": null,
      "metadata": {
        "id": "AMSVQC6jxki_"
      },
      "outputs": [],
      "source": [
        "!pip install langchain\n",
        "!pip install openai\n",
        "!pip install langchain-community langchain"
      ]
    },
    {
      "cell_type": "code",
      "source": [
        "!pip install langgraph\n",
        "!pip install -U langchain langchain-openai"
      ],
      "metadata": {
        "id": "L4lweR8hxlcI"
      },
      "execution_count": null,
      "outputs": []
    },
    {
      "cell_type": "code",
      "source": [
        "from langchain_core.prompts import ChatPromptTemplate\n",
        "from langchain.chat_models import ChatOpenAI\n",
        "from langchain.prompts import MessagesPlaceholder"
      ],
      "metadata": {
        "id": "uCes4G8ixsRo"
      },
      "execution_count": 3,
      "outputs": []
    },
    {
      "cell_type": "code",
      "source": [
        "import os\n",
        "\n",
        "os.environ[\"OPENAI_API_KEY\"] = 'OPENAI_API_KEY'\n",
        "os.environ[\"LANGCHAIN_TRACING_V2\"] = \"true\"\n",
        "os.environ[\"LANGCHAIN_API_KEY\"] = 'LANGCHAIN_API_KEY'\n",
        "os.environ[\"LANGCHAIN_PROJECT\"] = \"Langgraph_1\"\n",
        "os.environ[\"LANGSMITH_ENDPOINT\"] = \"https://api.smith.langchain.com\""
      ],
      "metadata": {
        "id": "g51rASrBxyKq"
      },
      "execution_count": 4,
      "outputs": []
    },
    {
      "cell_type": "markdown",
      "source": [
        "                            ┌────────────────────────┐\n",
        "                            │   Entry Point          │\n",
        "                            │   (HumanMessage: Qn)   │\n",
        "                            └──────────┬─────────────┘\n",
        "                                       │\n",
        "                                       ▼\n",
        "                           ┌───────────────────────┐\n",
        "                           │       GENERATE        │\n",
        "                           │  ↳ generation_chain    │\n",
        "                           │  (writes the answer)   │\n",
        "                           └──────────┬────────────┘\n",
        "                                      │\n",
        "                    ┌────────────────▼────────────────┐\n",
        "                    │ Evaluate with `should_continue` │\n",
        "                    │  ↳ parse_score() from response  │\n",
        "                    └────────────────┬────────────────┘\n",
        "                                     │\n",
        "                 ┌───────────────────┴───────────────────┐\n",
        "        Score ≥ 8│                                       │Score < 8\n",
        "                 ▼                                       ▼\n",
        "        ┌────────────────┐                    ┌────────────────────┐\n",
        "        │      END       │                    │      REFLECT       │\n",
        "        │ (graph stops)  │                    │ ↳ reflection_chain │\n",
        "        └────────────────┘                    │ (returns critique) │\n",
        "                                              └──────────┬─────────┘\n",
        "                                                         │\n",
        "                                                         ▼\n",
        "                                                ┌────────────────┐\n",
        "                                                │    GENERATE    │\n",
        "                                                │   (again...)   │\n",
        "                                                └────────────────┘\n"
      ],
      "metadata": {
        "id": "wH4G4cWP6tTm"
      }
    },
    {
      "cell_type": "code",
      "source": [
        "from langgraph.graph import END, MessageGraph\n",
        "from langchain_core.messages import HumanMessage"
      ],
      "metadata": {
        "id": "wdA9WWWL2pDA"
      },
      "execution_count": 16,
      "outputs": []
    },
    {
      "cell_type": "code",
      "source": [
        "llm = ChatOpenAI()"
      ],
      "metadata": {
        "id": "GbqGJPug0Mzh"
      },
      "execution_count": null,
      "outputs": []
    },
    {
      "cell_type": "code",
      "source": [
        "#Define Prompts\n",
        "generation_prompt = ChatPromptTemplate.from_messages([\n",
        "    \"system\",\"You are a grant application writer. Write a clear, persuasive answer to a given question\",\n",
        "    MessagesPlaceholder(variable_name=\"messages\")\n",
        "])\n",
        "\n",
        "reflection_prompt = ChatPromptTemplate.from_messages([\n",
        "    (\"system\", \"\"\"You are a critical reviewer. Evaluate the following grant application response on:\n",
        "    - Relevance to the question\n",
        "    - Clarity and structure\n",
        "    - Persuasiveness and tone\n",
        "    Give a score out of 10 and suggestions for improvement.\"\"\"),\n",
        "    MessagesPlaceholder(variable_name=\"messages\")\n",
        "])"
      ],
      "metadata": {
        "id": "ndg2iRfM0QYt"
      },
      "execution_count": 7,
      "outputs": []
    },
    {
      "cell_type": "code",
      "source": [
        "#Chain setup\n",
        "generation_chain = generation_prompt|llm\n",
        "reflection_chain = reflection_prompt|llm"
      ],
      "metadata": {
        "id": "4xMYlvmk0yYE"
      },
      "execution_count": 8,
      "outputs": []
    },
    {
      "cell_type": "code",
      "source": [
        "# Score extractor\n",
        "import re\n",
        "\n",
        "def parse_score(text):\n",
        "    match = re.search(r\"score\\s*[:\\-]?\\s*(\\d+(?:\\.\\d+)?)\", text, re.I)\n",
        "    return float(match.group(1)) if match else 0.0"
      ],
      "metadata": {
        "id": "FiyDEfxi0-rm"
      },
      "execution_count": 21,
      "outputs": []
    },
    {
      "cell_type": "code",
      "source": [
        "#Nodes\n",
        "\n",
        "def generate_node(state):\n",
        "  return generation_chain.invoke({\"messages\":state})\n",
        "\n",
        "def reflect_node(messages):\n",
        "  response = reflection_chain.invoke({\"messages\": messages})\n",
        "  return [HumanMessage(content=response.content)]\n",
        "\n",
        "def should_continue(state):\n",
        "    reflections = [msg.content for msg in state if isinstance(msg, HumanMessage)]\n",
        "    last = reflections[-1] if reflections else \"\"\n",
        "    score = parse_score(last)\n",
        "    if score >= 8:\n",
        "        return END\n",
        "    return \"REFLECT\""
      ],
      "metadata": {
        "id": "_059CZ2c1Uyi"
      },
      "execution_count": 27,
      "outputs": []
    },
    {
      "cell_type": "code",
      "source": [
        "# LangGraph assembly\n",
        "graph = MessageGraph()\n",
        "graph.add_node(\"GENERATE\", generate_node)\n",
        "graph.add_node(\"REFLECT\", reflect_node)\n",
        "graph.set_entry_point(\"GENERATE\")\n",
        "graph.add_edge(\"REFLECT\", \"GENERATE\")\n",
        "graph.add_conditional_edges(\"GENERATE\", should_continue)"
      ],
      "metadata": {
        "colab": {
          "base_uri": "https://localhost:8080/"
        },
        "id": "f2FZLtMz2-Cq",
        "outputId": "9aeabe46-a3f1-4a2d-bdd6-8afe4e705b3f"
      },
      "execution_count": 28,
      "outputs": [
        {
          "output_type": "execute_result",
          "data": {
            "text/plain": [
              "<langgraph.graph.message.MessageGraph at 0x7a8f3fcc1bd0>"
            ]
          },
          "metadata": {},
          "execution_count": 28
        }
      ]
    },
    {
      "cell_type": "code",
      "source": [
        "app = graph.compile()\n"
      ],
      "metadata": {
        "id": "eOrBp-yL3rkZ"
      },
      "execution_count": 29,
      "outputs": []
    },
    {
      "cell_type": "code",
      "source": [
        "# Test the agent\n",
        "question = \"How will your project positively impact underserved communities?\"\n",
        "response = app.invoke([HumanMessage(content=question)])\n",
        "print(response)\n",
        "\n",
        "from langchain.callbacks.tracers.langchain import wait_for_all_tracers\n",
        "wait_for_all_tracers()"
      ],
      "metadata": {
        "colab": {
          "base_uri": "https://localhost:8080/"
        },
        "id": "c8BZe8P83t0E",
        "outputId": "c970407c-5b43-4a58-e320-0b661286cb98"
      },
      "execution_count": 30,
      "outputs": [
        {
          "output_type": "stream",
          "name": "stdout",
          "text": [
            "[HumanMessage(content='How will your project positively impact underserved communities?', additional_kwargs={}, response_metadata={}, id='4b92bbb5-2198-4428-95fd-1f72e669d3ae'), AIMessage(content='Our project is specifically designed to address the needs of underserved communities and bring about positive change in their lives. Through our comprehensive approach, we will provide essential services, resources, and support to help empower individuals and families in these communities.\\n\\nOne key aspect of our project is to improve access to education and training opportunities, thereby equipping community members with the skills and knowledge needed to secure better job prospects and improve their economic situation. Additionally, we will facilitate access to healthcare services, mental health support, and other essential resources to address the specific needs of underserved populations.\\n\\nBy actively engaging with community leaders and stakeholders, we aim to foster a collaborative and inclusive approach to addressing systemic issues and creating sustainable solutions. Through our project, we will work to build a stronger, more resilient community that is better equipped to overcome challenges and thrive in the long term.\\n\\nOverall, our project will have a significant and lasting impact on underserved communities by providing them with the necessary tools and resources to improve their quality of life and create a more equitable society for all.', additional_kwargs={}, response_metadata={'token_usage': {'completion_tokens': 208, 'prompt_tokens': 43, 'total_tokens': 251, 'completion_tokens_details': {'accepted_prediction_tokens': 0, 'audio_tokens': 0, 'reasoning_tokens': 0, 'rejected_prediction_tokens': 0}, 'prompt_tokens_details': {'audio_tokens': 0, 'cached_tokens': 0}}, 'model_name': 'gpt-3.5-turbo', 'system_fingerprint': None, 'finish_reason': 'stop', 'logprobs': None}, id='run--7eb936c9-7878-46bc-b06b-68f055a32df8-0'), HumanMessage(content=\"Score: 7/10\\n\\nThe response effectively addresses the question by outlining how the project aims to positively impact underserved communities through education, training, access to healthcare services, and community engagement. \\n\\nHowever, the structure of the response could be improved for better clarity. It would benefit from separating the different components of the project's impact more distinctly, perhaps by using bullet points or subheadings. This would make it easier for the reader to follow the various ways in which the project will benefit underserved communities.\\n\\nAdditionally, the response could be more persuasive by providing specific examples or data to support the claims made about the project's potential impact. Including success stories or statistics from similar initiatives could help strengthen the argument and make it more compelling.\\n\\nOverall, the response effectively addresses the question but could benefit from improved clarity, structure, and additional evidence to bolster its persuasiveness.\", additional_kwargs={}, response_metadata={}, id='dbee77df-25ab-4ce2-ba71-6d6fcb4c29e6'), AIMessage(content='Thank you for the feedback. I will take your suggestions into consideration for future responses to ensure better clarity, structure, and the inclusion of specific examples or data to strengthen the argument. Your input is valuable in helping me improve as a grant application writer.', additional_kwargs={}, response_metadata={'token_usage': {'completion_tokens': 50, 'prompt_tokens': 434, 'total_tokens': 484, 'completion_tokens_details': {'accepted_prediction_tokens': 0, 'audio_tokens': 0, 'reasoning_tokens': 0, 'rejected_prediction_tokens': 0}, 'prompt_tokens_details': {'audio_tokens': 0, 'cached_tokens': 0}}, 'model_name': 'gpt-3.5-turbo', 'system_fingerprint': None, 'finish_reason': 'stop', 'logprobs': None}, id='run--669b8ca0-167a-46d3-abcc-6b2781452912-0'), HumanMessage(content=\"Relevance to the question: 8/10\\nClarity and structure: 7/10\\nPersuasiveness and tone: 6/10\\n\\nOverall Score: 7/10\\n\\nSuggestions for improvement:\\n1. Consider structuring the response with bullet points or subheadings to clearly outline the different components of the project's impact on underserved communities.\\n2. Include specific examples or data to support the claims made about the project's potential impact, which will make the response more persuasive.\\n3. Maintain a consistent tone throughout the response to ensure a strong and convincing argument for the positive impact on underserved communities.\", additional_kwargs={}, response_metadata={}, id='38cfc61a-6604-433c-983e-bfbce74ee15a'), AIMessage(content='Thank you for the detailed feedback and suggestions for improvement. I will incorporate these recommendations into my future responses to enhance clarity, structure, persuasiveness, and maintain a consistent tone throughout. Your insights are valuable in helping me refine my grant application writing skills.', additional_kwargs={}, response_metadata={'token_usage': {'completion_tokens': 51, 'prompt_tokens': 619, 'total_tokens': 670, 'completion_tokens_details': {'accepted_prediction_tokens': 0, 'audio_tokens': 0, 'reasoning_tokens': 0, 'rejected_prediction_tokens': 0}, 'prompt_tokens_details': {'audio_tokens': 0, 'cached_tokens': 0}}, 'model_name': 'gpt-3.5-turbo', 'system_fingerprint': None, 'finish_reason': 'stop', 'logprobs': None}, id='run--94f510eb-aa7d-4d57-8b8f-df41d3023217-0'), HumanMessage(content=\"Relevance to the question: 9/10\\nClarity and structure: 8/10\\nPersuasiveness and tone: 8/10\\n\\nOverall Score: 8.3/10\\n\\nSuggestions for improvement:\\n1. Consider using bullet points or subheadings to clearly outline the different components of the project's impact on underserved communities for better clarity and structure.\\n2. Incorporate specific examples or data to support the claims made about the project's potential impact, which will enhance persuasiveness.\\n3. Maintain a consistent and confident tone throughout the response to strengthen the argument for the positive impact on underserved communities.\", additional_kwargs={}, response_metadata={}, id='cdce62db-64a0-4741-bb4e-6250fcd2db40'), AIMessage(content='Thank you for the updated evaluation and suggestions for improvement. I appreciate the constructive feedback and will work on implementing the recommended changes to enhance the clarity, persuasiveness, and overall effectiveness of my responses in future grant applications. Your insights are invaluable in helping me continue to improve as a grant application writer.', additional_kwargs={}, response_metadata={'token_usage': {'completion_tokens': 60, 'prompt_tokens': 807, 'total_tokens': 867, 'completion_tokens_details': {'accepted_prediction_tokens': 0, 'audio_tokens': 0, 'reasoning_tokens': 0, 'rejected_prediction_tokens': 0}, 'prompt_tokens_details': {'audio_tokens': 0, 'cached_tokens': 0}}, 'model_name': 'gpt-3.5-turbo', 'system_fingerprint': None, 'finish_reason': 'stop', 'logprobs': None}, id='run--2f834a7a-504f-4d91-b745-15dceac1c90a-0')]\n"
          ]
        }
      ]
    },
    {
      "cell_type": "markdown",
      "source": [
        "Langsmith link:https://smith.langchain.com/public/0edf7661-3288-451d-9d0a-6bea5efbc012/r"
      ],
      "metadata": {
        "id": "lsQh9vNb7K7K"
      }
    }
  ]
}