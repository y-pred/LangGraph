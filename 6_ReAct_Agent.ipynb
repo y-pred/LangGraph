{
  "nbformat": 4,
  "nbformat_minor": 0,
  "metadata": {
    "colab": {
      "provenance": []
    },
    "kernelspec": {
      "name": "python3",
      "display_name": "Python 3"
    },
    "language_info": {
      "name": "python"
    }
  },
  "cells": [
    {
      "cell_type": "code",
      "execution_count": null,
      "metadata": {
        "id": "COUSBKd3jbMJ"
      },
      "outputs": [],
      "source": [
        "!pip install langchain\n",
        "!pip install openai\n",
        "!pip install langchain-community langchain\n",
        "!pip install langgraph\n",
        "!pip install -U langchain langchain-openai"
      ]
    },
    {
      "cell_type": "code",
      "source": [
        "!pip install langchain-community duckduckgo-search"
      ],
      "metadata": {
        "id": "LQ6Sq0TUojG7"
      },
      "execution_count": null,
      "outputs": []
    },
    {
      "cell_type": "code",
      "source": [
        "import os\n",
        "os.environ[\"OPENAI_API_KEY\"] = 'OPENAI_API_KEY'\n",
        "os.environ[\"LANGCHAIN_TRACING_V2\"] = \"true\"\n",
        "os.environ[\"LANGCHAIN_API_KEY\"] = 'LANGCHAIN_API_KEY'\n",
        "os.environ[\"LANGCHAIN_PROJECT\"] = \"Langgraph_1\"\n",
        "os.environ[\"LANGSMITH_ENDPOINT\"] = \"https://api.smith.langchain.com\""
      ],
      "metadata": {
        "id": "dP78wgWzj7R8"
      },
      "execution_count": 2,
      "outputs": []
    },
    {
      "cell_type": "code",
      "source": [
        "from typing import Annotated, Sequence, TypedDict\n",
        "from dotenv import load_dotenv\n",
        "from langchain_core.messages import BaseMessage # The foundational class for all message types in LangGraph\n",
        "from langchain_core.messages import ToolMessage # Passes data back to LLM after it calls a tool such as the content and the tool_call_id\n",
        "from langchain_core.messages import SystemMessage # Message for providing instructions to the LLM\n",
        "from langchain_openai import ChatOpenAI\n",
        "from langchain_core.tools import tool\n",
        "from langgraph.graph.message import add_messages\n",
        "from langgraph.graph import StateGraph, END, START\n",
        "from langgraph.prebuilt import ToolNode"
      ],
      "metadata": {
        "id": "scepe2QDj-Eu"
      },
      "execution_count": 16,
      "outputs": []
    },
    {
      "cell_type": "code",
      "source": [
        "class AgentState(TypedDict):\n",
        "  messages: Annotated[Sequence[BaseMessage], add_messages]"
      ],
      "metadata": {
        "id": "Efdz8laHkEQi"
      },
      "execution_count": 7,
      "outputs": []
    },
    {
      "cell_type": "code",
      "source": [
        "@tool\n",
        "def word_count(text: str) -> int:\n",
        "  \"The function returns the length of text\"\n",
        "  return len(text.split())"
      ],
      "metadata": {
        "id": "BDEo2Psvkp6g"
      },
      "execution_count": 6,
      "outputs": []
    },
    {
      "cell_type": "code",
      "source": [
        "from langchain_community.tools import DuckDuckGoSearchRun\n",
        "\n",
        "# Create an instance of the search tool\n",
        "search_tool = DuckDuckGoSearchRun()"
      ],
      "metadata": {
        "id": "XLkSir-sos4t"
      },
      "execution_count": 25,
      "outputs": []
    },
    {
      "cell_type": "code",
      "source": [
        "@tool\n",
        "def latest_news(text: str)-> str:\n",
        "  \"This tool returns the latest news\"\n",
        "  return search_tool.run(text)"
      ],
      "metadata": {
        "id": "qp7_KVYpooEd"
      },
      "execution_count": 26,
      "outputs": []
    },
    {
      "cell_type": "code",
      "source": [
        "tools = [word_count, latest_news]"
      ],
      "metadata": {
        "id": "sm8hKVFHkzsP"
      },
      "execution_count": 27,
      "outputs": []
    },
    {
      "cell_type": "code",
      "source": [
        "model = ChatOpenAI().bind_tools(tools)"
      ],
      "metadata": {
        "id": "qizO1LM_koZY"
      },
      "execution_count": 28,
      "outputs": []
    },
    {
      "cell_type": "code",
      "source": [
        "def model_call(state: AgentState) -> AgentState:\n",
        "  systemprompt = SystemMessage(content= \"You are a AI assistant that responds in a funny way but honet\")\n",
        "\n",
        "  response = model.invoke([systemprompt]+state[\"messages\"])\n",
        "\n",
        "  return {\"messages\":response}"
      ],
      "metadata": {
        "id": "AzvS4440kIdE"
      },
      "execution_count": 29,
      "outputs": []
    },
    {
      "cell_type": "code",
      "source": [
        "def router(state: AgentState) -> str:\n",
        "  messages = state['messages']\n",
        "  last_message = messages[-1]\n",
        "  if not last_message.tool_calls:\n",
        "    return 'end'\n",
        "  else:\n",
        "    return 'continue'"
      ],
      "metadata": {
        "id": "msh44m0_lrjQ"
      },
      "execution_count": 30,
      "outputs": []
    },
    {
      "cell_type": "code",
      "source": [
        "graph = StateGraph(AgentState)\n",
        "\n",
        "graph.add_node(\"model\",model_call)\n",
        "tool_node = ToolNode(tools)\n",
        "graph.add_node(\"tool\",tool_node)\n",
        "\n",
        "graph.add_edge(START, 'model')\n",
        "graph.add_conditional_edges(\n",
        "    'model',\n",
        "    router,\n",
        "    {\n",
        "        'continue':'tool',\n",
        "        'end': END\n",
        "    }\n",
        ")\n",
        "graph.add_edge('tool', 'model')\n",
        "graph.compile()\n",
        "\n",
        "\n"
      ],
      "metadata": {
        "colab": {
          "base_uri": "https://localhost:8080/",
          "height": 290
        },
        "id": "PKwaemc0lOH8",
        "outputId": "41921e63-bbdf-4176-f2b9-c65faa2604ba"
      },
      "execution_count": 31,
      "outputs": [
        {
          "output_type": "execute_result",
          "data": {
            "text/plain": [
              "<langgraph.graph.state.CompiledStateGraph object at 0x7ea5744d8710>"
            ],
            "image/png": "[encoded data removed]"
          },
          "metadata": {},
          "execution_count": 31
        }
      ]
    },
    {
      "cell_type": "code",
      "source": [
        "app = graph.compile()\n",
        "inputs = {\"messages\": [(\"user\", \"Tell me the word count in this sentence 'Ashish is good'.Also tell me latest news on AI from 30th July\")]}\n",
        "result = app.invoke(inputs)"
      ],
      "metadata": {
        "colab": {
          "base_uri": "https://localhost:8080/"
        },
        "id": "436S__QxnRvB",
        "outputId": "e6bee2e3-bf0c-4019-ad2b-9b7786ae4948"
      },
      "execution_count": 32,
      "outputs": [
        {
          "output_type": "stream",
          "name": "stderr",
          "text": [
            "/usr/local/lib/python3.11/dist-packages/langchain_community/utilities/duckduckgo_search.py:63: RuntimeWarning: This package (`duckduckgo_search`) has been renamed to `ddgs`! Use `pip install ddgs` instead.\n",
            "  with DDGS() as ddgs:\n",
            "<frozen importlib._bootstrap>:1047: ImportWarning: _PyDriveImportHook.find_spec() not found; falling back to find_module()\n",
            "<frozen importlib._bootstrap>:1047: ImportWarning: _PyDriveImportHook.find_spec() not found; falling back to find_module()\n",
            "sys:1: ResourceWarning: Unclosed socket <zmq.Socket(zmq.PUSH) at 0x7ea5742c41a0>\n",
            "ResourceWarning: Enable tracemalloc to get the object allocation traceback\n"
          ]
        }
      ]
    },
    {
      "cell_type": "code",
      "source": [
        "result"
      ],
      "metadata": {
        "colab": {
          "base_uri": "https://localhost:8080/"
        },
        "id": "rkop6s9wniCR",
        "outputId": "6e39f848-8e9e-48bd-dea8-9c84ebf9e32d"
      },
      "execution_count": 33,
      "outputs": [
        {
          "output_type": "execute_result",
          "data": {
            "text/plain": [
              "{'messages': [HumanMessage(content=\"Tell me the word count in this sentence 'Ashish is good'.Also tell me latest news on AI from 30th July\", additional_kwargs={}, response_metadata={}, id='2f54d3a1-b9b6-43aa-bbbd-dfde1b90a091'),\n",
              "  AIMessage(content='', additional_kwargs={'tool_calls': [{'id': 'call_0c4IwqbO3cHqGjCAeNto00cV', 'function': {'arguments': '{\"text\": \"Ashish is good\"}', 'name': 'word_count'}, 'type': 'function'}, {'id': 'call_jhxqY0j9OW1J74FzT4HjKATK', 'function': {'arguments': '{\"text\": \"AI news from 30th July\"}', 'name': 'latest_news'}, 'type': 'function'}], 'refusal': None}, response_metadata={'token_usage': {'completion_tokens': 52, 'prompt_tokens': 109, 'total_tokens': 161, 'completion_tokens_details': {'accepted_prediction_tokens': 0, 'audio_tokens': 0, 'reasoning_tokens': 0, 'rejected_prediction_tokens': 0}, 'prompt_tokens_details': {'audio_tokens': 0, 'cached_tokens': 0}}, 'model_name': 'gpt-3.5-turbo-0125', 'system_fingerprint': None, 'id': 'chatcmpl-BzEllBhFK9U1ldVhZb15da21eLpyw', 'service_tier': 'default', 'finish_reason': 'tool_calls', 'logprobs': None}, id='run--e6423b33-a170-45cd-b7e0-9ea45bd5ddb5-0', tool_calls=[{'name': 'word_count', 'args': {'text': 'Ashish is good'}, 'id': 'call_0c4IwqbO3cHqGjCAeNto00cV', 'type': 'tool_call'}, {'name': 'latest_news', 'args': {'text': 'AI news from 30th July'}, 'id': 'call_jhxqY0j9OW1J74FzT4HjKATK', 'type': 'tool_call'}], usage_metadata={'input_tokens': 109, 'output_tokens': 52, 'total_tokens': 161, 'input_token_details': {'audio': 0, 'cache_read': 0}, 'output_token_details': {'audio': 0, 'reasoning': 0}}),\n",
              "  ToolMessage(content='3', name='word_count', id='c11a70c2-c131-483b-9d50-0d84da4ac987', tool_call_id='call_0c4IwqbO3cHqGjCAeNto00cV'),\n",
              "  ToolMessage(content='Jul 24, 2025 · An AI pipeline developed by CSAIL researchers enables unique hydrodynamic designs for bodyboard-sized vehicles that glide underwater and could help scientists gather marine data. Jan 17, 2025 · MIT News explores the environmental and sustainability implications of generative AI technologies and applications. Nov 22, 2024 · MIT researchers developed an efficient approach for training more reliable reinforcement learning models, focusing on complex tasks that involve variability. This could enable the leverage of reinforcement learning across a wide range of applications. Jul 8, 2024 · Researchers from MIT and elsewhere developed an easy-to-use tool that enables someone to perform complicated statistical analyses on tabular data using just a few keystrokes. Their method combines probabilistic AI models with the programming language SQL to provide faster and more accurate results than other methods. Apr 23, 2025 · After uncovering a unifying algorithm that links more than 20 common machine-learning approaches, MIT researchers organized them into a “periodic table of machine learning” that can help scientists combine elements of different methods to …', name='latest_news', id='3d4b4c84-1455-4831-9e21-6e58c3cea6c5', tool_call_id='call_jhxqY0j9OW1J74FzT4HjKATK'),\n",
              "  AIMessage(content='The sentence \"Ashish is good\" has 3 words. \\n\\nAs for the latest news on AI from 30th July, the news mentions an AI pipeline developed by CSAIL researchers that enables unique hydrodynamic designs for underwater vehicles.', additional_kwargs={'refusal': None}, response_metadata={'token_usage': {'completion_tokens': 49, 'prompt_tokens': 422, 'total_tokens': 471, 'completion_tokens_details': {'accepted_prediction_tokens': 0, 'audio_tokens': 0, 'reasoning_tokens': 0, 'rejected_prediction_tokens': 0}, 'prompt_tokens_details': {'audio_tokens': 0, 'cached_tokens': 0}}, 'model_name': 'gpt-3.5-turbo-0125', 'system_fingerprint': None, 'id': 'chatcmpl-BzElnTf1tq5VUy8mEgFLKDiIOP4wB', 'service_tier': 'default', 'finish_reason': 'stop', 'logprobs': None}, id='run--1cb9c0ec-c4a5-4396-9a51-84189143def5-0', usage_metadata={'input_tokens': 422, 'output_tokens': 49, 'total_tokens': 471, 'input_token_details': {'audio': 0, 'cache_read': 0}, 'output_token_details': {'audio': 0, 'reasoning': 0}})]}"
            ]
          },
          "metadata": {},
          "execution_count": 33
        }
      ]
    },
    {
      "cell_type": "code",
      "source": [
        "def print_stream(stream):\n",
        "    for s in stream:\n",
        "        message = s[\"messages\"][-1]\n",
        "        if isinstance(message, tuple):\n",
        "            print(message)\n",
        "        else:\n",
        "            message.pretty_print()\n",
        "\n",
        "inputs = {\"messages\": [(\"user\", \"What is the wordcount in 'India has good AI talent'. Also tell me the latest news on AI\")]}\n",
        "print_stream(app.stream(inputs, stream_mode=\"values\"))"
      ],
      "metadata": {
        "colab": {
          "base_uri": "https://localhost:8080/"
        },
        "id": "42qqmYHQpUk5",
        "outputId": "4b68b21e-f986-48de-bbcb-3061b6610f88"
      },
      "execution_count": 38,
      "outputs": [
        {
          "output_type": "stream",
          "name": "stdout",
          "text": [
            "================================\u001b[1m Human Message \u001b[0m=================================\n",
            "\n",
            "What is the wordcount in 'India has good AI talent'. Also tell me the latest news on AI\n",
            "==================================\u001b[1m Ai Message \u001b[0m==================================\n",
            "Tool Calls:\n",
            "  word_count (call_dp9OVwXAK6Dbv26YQ8aJponI)\n",
            " Call ID: call_dp9OVwXAK6Dbv26YQ8aJponI\n",
            "  Args:\n",
            "    text: India has good AI talent\n",
            "  latest_news (call_BSX7ewt5EIgiWIbGDxfqbvCQ)\n",
            " Call ID: call_BSX7ewt5EIgiWIbGDxfqbvCQ\n",
            "  Args:\n",
            "    text: AI\n",
            "=================================\u001b[1m Tool Message \u001b[0m=================================\n",
            "Name: latest_news\n",
            "\n",
            "Jul 24, 2025 · An AI pipeline developed by CSAIL researchers enables unique hydrodynamic designs for bodyboard-sized vehicles that glide underwater … Jan 17, 2025 · MIT News explores the environmental and sustainability implications of generative AI … Nov 22, 2024 · MIT researchers developed an efficient approach for training more reliable reinforcement learning models, focusing on complex … Jul 8, 2024 · Researchers from MIT and elsewhere developed an easy-to-use tool that enables someone to perform complicated statistical analyses on … Apr 23, 2025 · After uncovering a unifying algorithm that links more than 20 common machine-learning approaches, MIT researchers organized them into a …\n"
          ]
        },
        {
          "output_type": "stream",
          "name": "stderr",
          "text": [
            "/usr/local/lib/python3.11/dist-packages/langchain_community/utilities/duckduckgo_search.py:63: RuntimeWarning: This package (`duckduckgo_search`) has been renamed to `ddgs`! Use `pip install ddgs` instead.\n",
            "  with DDGS() as ddgs:\n",
            "sys:1: ResourceWarning: Unclosed socket <zmq.Socket(zmq.PUSH) at 0x7ea5742c6120>\n",
            "ResourceWarning: Enable tracemalloc to get the object allocation traceback\n"
          ]
        },
        {
          "output_type": "stream",
          "name": "stdout",
          "text": [
            "==================================\u001b[1m Ai Message \u001b[0m==================================\n",
            "\n",
            "The word count in the text \"India has good AI talent\" is 5.\n",
            "\n",
            "The latest news on AI is about an AI pipeline developed by CSAIL researchers that enables unique hydrodynamic designs for bodyboard-sized vehicles that glide underwater. This was reported on Jul 24, 2025.\n"
          ]
        }
      ]
    }
  ]
}