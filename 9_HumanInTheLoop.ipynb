{
  "nbformat": 4,
  "nbformat_minor": 0,
  "metadata": {
    "colab": {
      "provenance": []
    },
    "kernelspec": {
      "name": "python3",
      "display_name": "Python 3"
    },
    "language_info": {
      "name": "python"
    }
  },
  "cells": [
    {
      "cell_type": "code",
      "source": [
        "!pip install langchain\n",
        "!pip install openai\n",
        "!pip install langchain-community langchain\n",
        "!pip install langgraph\n",
        "!pip install -U langchain langchain-openai"
      ],
      "metadata": {
        "id": "okmW9JbnAd_X"
      },
      "execution_count": null,
      "outputs": []
    },
    {
      "cell_type": "code",
      "execution_count": 2,
      "metadata": {
        "id": "joosOrAkAcG-"
      },
      "outputs": [],
      "source": [
        "import os\n",
        "os.environ[\"OPENAI_API_KEY\"] = 'OPENAI_API_KEY'\n",
        "os.environ[\"LANGCHAIN_TRACING_V2\"] = \"true\"\n",
        "os.environ[\"LANGCHAIN_API_KEY\"] = 'LANGCHAIN_API_KEY'\n",
        "os.environ[\"LANGCHAIN_PROJECT\"] = \"Langgraph_1\"\n",
        "os.environ[\"LANGSMITH_ENDPOINT\"] = \"https://api.smith.langchain.com\""
      ]
    },
    {
      "cell_type": "code",
      "source": [
        "from langgraph.graph import StateGraph, START, END\n",
        "from typing import TypedDict\n",
        "from langchain_openai import ChatOpenAI\n",
        "from langgraph.checkpoint.memory import InMemorySaver"
      ],
      "metadata": {
        "id": "FwKGLg5hH4o_"
      },
      "execution_count": 29,
      "outputs": []
    },
    {
      "cell_type": "code",
      "source": [
        "class HumanInLoop(TypedDict):\n",
        "  step1: str\n",
        "  step2: str\n",
        "  input: str"
      ],
      "metadata": {
        "id": "dfkqFG5HH9f4"
      },
      "execution_count": 30,
      "outputs": []
    },
    {
      "cell_type": "code",
      "source": [
        "import time\n",
        "\n",
        "def step1_execution(state: HumanInLoop) -> HumanInLoop:\n",
        "  print(\"Step 1 executed\")\n",
        "  return {\"step1\": \"executed\", 'input':state[\"input\"]}\n",
        "\n",
        "def step2_execution(state: HumanInLoop) -> HumanInLoop:\n",
        "  print(\"Step 2 halted #######################\")\n",
        "  time.sleep(30)\n",
        "  return {\"step1\": \"executed\", 'input':state[\"input\"]}\n",
        "\n",
        "def step3_execution(state: HumanInLoop) -> HumanInLoop:\n",
        "    print(\"✅ Step 3 executed\")\n",
        "    return {\"done\": True}"
      ],
      "metadata": {
        "id": "VXC2WyxUIOWW"
      },
      "execution_count": 31,
      "outputs": []
    },
    {
      "cell_type": "code",
      "source": [
        "# 3. Build the graph\n",
        "builder = StateGraph(HumanInLoop)\n",
        "builder.add_node(\"step_1\", step1_execution)\n",
        "builder.add_node(\"step_2\", step2_execution)\n",
        "builder.add_node(\"step_3\", step3_execution)\n",
        "\n",
        "builder.set_entry_point(\"step_1\")\n",
        "builder.add_edge(\"step_1\", \"step_2\")\n",
        "builder.add_edge(\"step_2\", \"step_3\")\n",
        "builder.add_edge(\"step_3\", END)\n",
        "\n",
        "checkpointer = InMemorySaver()\n",
        "graph = builder.compile(checkpointer=checkpointer)"
      ],
      "metadata": {
        "id": "3x58orqrJXCn"
      },
      "execution_count": 32,
      "outputs": []
    },
    {
      "cell_type": "code",
      "source": [
        "try:\n",
        "    print(\"▶️ Running graph: Please manually interrupt during Step 2...\")\n",
        "    graph.invoke({\"input\": \"start\"}, config={\"configurable\": {\"thread_id\": 'thread-1'}})\n",
        "except KeyboardInterrupt:\n",
        "    print(\"❌ Kernel manually interrupted (crash simulated).\")"
      ],
      "metadata": {
        "colab": {
          "base_uri": "https://localhost:8080/"
        },
        "id": "NupqkfD9KF1Q",
        "outputId": "921216d9-9903-450f-f968-2f25fa02c751"
      },
      "execution_count": 33,
      "outputs": [
        {
          "output_type": "stream",
          "name": "stdout",
          "text": [
            "▶️ Running graph: Please manually interrupt during Step 2...\n",
            "Step 1 executed\n",
            "Step 2 halted #######################\n",
            "❌ Kernel manually interrupted (crash simulated).\n"
          ]
        }
      ]
    },
    {
      "cell_type": "code",
      "source": [
        "graph.get_state({\n",
        "    \"configurable\": {\"thread_id\": 'thread-1'}\n",
        "    })"
      ],
      "metadata": {
        "colab": {
          "base_uri": "https://localhost:8080/"
        },
        "id": "2614nAFtKuV2",
        "outputId": "2d0d24bb-a318-433e-9232-46c75d4049a3"
      },
      "execution_count": 34,
      "outputs": [
        {
          "output_type": "execute_result",
          "data": {
            "text/plain": [
              "StateSnapshot(values={'step1': 'executed', 'input': 'start'}, next=('step_2',), config={'configurable': {'thread_id': 'thread-1', 'checkpoint_ns': '', 'checkpoint_id': '1f07b1e8-d49d-6a70-8001-51fac2dfbd30'}}, metadata={'source': 'loop', 'step': 1, 'parents': {}}, created_at='2025-08-17T03:59:19.814805+00:00', parent_config={'configurable': {'thread_id': 'thread-1', 'checkpoint_ns': '', 'checkpoint_id': '1f07b1e8-d494-6c08-8000-b34165467937'}}, tasks=(PregelTask(id='6da76555-ad6f-9917-d0f8-226c12f2fc7b', name='step_2', path=('__pregel_pull', 'step_2'), error=None, interrupts=(), state=None, result=None),), interrupts=())"
            ]
          },
          "metadata": {},
          "execution_count": 34
        }
      ]
    },
    {
      "cell_type": "code",
      "source": [
        "list(graph.get_state_history({\n",
        "    \"configurable\": {\"thread_id\": 'thread-1'}\n",
        "    }))"
      ],
      "metadata": {
        "colab": {
          "base_uri": "https://localhost:8080/"
        },
        "id": "uqkN2YFJLWFw",
        "outputId": "c76ed9e4-0ee4-419e-d2b7-83bdb094a991"
      },
      "execution_count": 35,
      "outputs": [
        {
          "output_type": "execute_result",
          "data": {
            "text/plain": [
              "[StateSnapshot(values={'step1': 'executed', 'input': 'start'}, next=('step_2',), config={'configurable': {'thread_id': 'thread-1', 'checkpoint_ns': '', 'checkpoint_id': '1f07b1e8-d49d-6a70-8001-51fac2dfbd30'}}, metadata={'source': 'loop', 'step': 1, 'parents': {}}, created_at='2025-08-17T03:59:19.814805+00:00', parent_config={'configurable': {'thread_id': 'thread-1', 'checkpoint_ns': '', 'checkpoint_id': '1f07b1e8-d494-6c08-8000-b34165467937'}}, tasks=(PregelTask(id='6da76555-ad6f-9917-d0f8-226c12f2fc7b', name='step_2', path=('__pregel_pull', 'step_2'), error=None, interrupts=(), state=None, result=None),), interrupts=()),\n",
              " StateSnapshot(values={'input': 'start'}, next=('step_1',), config={'configurable': {'thread_id': 'thread-1', 'checkpoint_ns': '', 'checkpoint_id': '1f07b1e8-d494-6c08-8000-b34165467937'}}, metadata={'source': 'loop', 'step': 0, 'parents': {}}, created_at='2025-08-17T03:59:19.811158+00:00', parent_config={'configurable': {'thread_id': 'thread-1', 'checkpoint_ns': '', 'checkpoint_id': '1f07b1e8-d492-63d4-bfff-0718e3fbc136'}}, tasks=(PregelTask(id='e05c1206-efa0-6cb2-6142-9ad0209e9d91', name='step_1', path=('__pregel_pull', 'step_1'), error=None, interrupts=(), state=None, result={'step1': 'executed', 'input': 'start'}),), interrupts=()),\n",
              " StateSnapshot(values={}, next=('__start__',), config={'configurable': {'thread_id': 'thread-1', 'checkpoint_ns': '', 'checkpoint_id': '1f07b1e8-d492-63d4-bfff-0718e3fbc136'}}, metadata={'source': 'input', 'step': -1, 'parents': {}}, created_at='2025-08-17T03:59:19.810134+00:00', parent_config=None, tasks=(PregelTask(id='2b053691-47ed-af50-0a33-1fd5f63a1c79', name='__start__', path=('__pregel_pull', '__start__'), error=None, interrupts=(), state=None, result={'input': 'start'}),), interrupts=())]"
            ]
          },
          "metadata": {},
          "execution_count": 35
        }
      ]
    },
    {
      "cell_type": "code",
      "source": [
        "# 6. Re-run to show fault-tolerant resume\n",
        "print(\"\\n🔁 Re-running the graph to demonstrate fault tolerance...\")\n",
        "final_state = graph.invoke(None, config={\"configurable\": {\"thread_id\": 'thread-1'}})\n",
        "print(\"\\n✅ Final State:\", final_state)"
      ],
      "metadata": {
        "colab": {
          "base_uri": "https://localhost:8080/"
        },
        "id": "05NoJgDjKUWf",
        "outputId": "68353bb7-532f-45a7-daca-3a08c928aae0"
      },
      "execution_count": 36,
      "outputs": [
        {
          "output_type": "stream",
          "name": "stdout",
          "text": [
            "\n",
            "🔁 Re-running the graph to demonstrate fault tolerance...\n",
            "Step 2 halted #######################\n",
            "✅ Step 3 executed\n",
            "\n",
            "✅ Final State: {'step1': 'executed', 'input': 'start'}\n"
          ]
        }
      ]
    },
    {
      "cell_type": "code",
      "source": [
        "graph.get_state({\n",
        "    \"configurable\": {\"thread_id\": 'thread-1'}\n",
        "    })"
      ],
      "metadata": {
        "colab": {
          "base_uri": "https://localhost:8080/"
        },
        "id": "HX0mDT_JMBjB",
        "outputId": "37c241eb-ad3d-4938-98bd-fd5de359f22b"
      },
      "execution_count": 37,
      "outputs": [
        {
          "output_type": "execute_result",
          "data": {
            "text/plain": [
              "StateSnapshot(values={'step1': 'executed', 'input': 'start'}, next=(), config={'configurable': {'thread_id': 'thread-1', 'checkpoint_ns': '', 'checkpoint_id': '1f07b1ec-ec1c-63d6-8003-62ef20afed56'}}, metadata={'source': 'loop', 'step': 3, 'parents': {}}, created_at='2025-08-17T04:01:09.652561+00:00', parent_config={'configurable': {'thread_id': 'thread-1', 'checkpoint_ns': '', 'checkpoint_id': '1f07b1ec-ec16-62c8-8002-fd2d4fbef167'}}, tasks=(), interrupts=())"
            ]
          },
          "metadata": {},
          "execution_count": 37
        }
      ]
    },
    {
      "cell_type": "code",
      "source": [
        "list(graph.get_state_history({\n",
        "    \"configurable\": {\"thread_id\": 'thread-1'}\n",
        "    }))"
      ],
      "metadata": {
        "colab": {
          "base_uri": "https://localhost:8080/"
        },
        "id": "hdEbP0gdMP0E",
        "outputId": "4b0cfab6-b2f8-45ee-8879-bd0a02b37e5c"
      },
      "execution_count": 38,
      "outputs": [
        {
          "output_type": "execute_result",
          "data": {
            "text/plain": [
              "[StateSnapshot(values={'step1': 'executed', 'input': 'start'}, next=(), config={'configurable': {'thread_id': 'thread-1', 'checkpoint_ns': '', 'checkpoint_id': '1f07b1ec-ec1c-63d6-8003-62ef20afed56'}}, metadata={'source': 'loop', 'step': 3, 'parents': {}}, created_at='2025-08-17T04:01:09.652561+00:00', parent_config={'configurable': {'thread_id': 'thread-1', 'checkpoint_ns': '', 'checkpoint_id': '1f07b1ec-ec16-62c8-8002-fd2d4fbef167'}}, tasks=(), interrupts=()),\n",
              " StateSnapshot(values={'step1': 'executed', 'input': 'start'}, next=('step_3',), config={'configurable': {'thread_id': 'thread-1', 'checkpoint_ns': '', 'checkpoint_id': '1f07b1ec-ec16-62c8-8002-fd2d4fbef167'}}, metadata={'source': 'loop', 'step': 2, 'parents': {}}, created_at='2025-08-17T04:01:09.650052+00:00', parent_config={'configurable': {'thread_id': 'thread-1', 'checkpoint_ns': '', 'checkpoint_id': '1f07b1e8-d49d-6a70-8001-51fac2dfbd30'}}, tasks=(PregelTask(id='746d3303-bd00-9c8f-16fe-498c81dbccd2', name='step_3', path=('__pregel_pull', 'step_3'), error=None, interrupts=(), state=None, result={}),), interrupts=()),\n",
              " StateSnapshot(values={'step1': 'executed', 'input': 'start'}, next=('step_2',), config={'configurable': {'thread_id': 'thread-1', 'checkpoint_ns': '', 'checkpoint_id': '1f07b1e8-d49d-6a70-8001-51fac2dfbd30'}}, metadata={'source': 'loop', 'step': 1, 'parents': {}}, created_at='2025-08-17T03:59:19.814805+00:00', parent_config={'configurable': {'thread_id': 'thread-1', 'checkpoint_ns': '', 'checkpoint_id': '1f07b1e8-d494-6c08-8000-b34165467937'}}, tasks=(PregelTask(id='6da76555-ad6f-9917-d0f8-226c12f2fc7b', name='step_2', path=('__pregel_pull', 'step_2'), error=None, interrupts=(), state=None, result={'step1': 'executed', 'input': 'start'}),), interrupts=()),\n",
              " StateSnapshot(values={'input': 'start'}, next=('step_1',), config={'configurable': {'thread_id': 'thread-1', 'checkpoint_ns': '', 'checkpoint_id': '1f07b1e8-d494-6c08-8000-b34165467937'}}, metadata={'source': 'loop', 'step': 0, 'parents': {}}, created_at='2025-08-17T03:59:19.811158+00:00', parent_config={'configurable': {'thread_id': 'thread-1', 'checkpoint_ns': '', 'checkpoint_id': '1f07b1e8-d492-63d4-bfff-0718e3fbc136'}}, tasks=(PregelTask(id='e05c1206-efa0-6cb2-6142-9ad0209e9d91', name='step_1', path=('__pregel_pull', 'step_1'), error=None, interrupts=(), state=None, result={'step1': 'executed', 'input': 'start'}),), interrupts=()),\n",
              " StateSnapshot(values={}, next=('__start__',), config={'configurable': {'thread_id': 'thread-1', 'checkpoint_ns': '', 'checkpoint_id': '1f07b1e8-d492-63d4-bfff-0718e3fbc136'}}, metadata={'source': 'input', 'step': -1, 'parents': {}}, created_at='2025-08-17T03:59:19.810134+00:00', parent_config=None, tasks=(PregelTask(id='2b053691-47ed-af50-0a33-1fd5f63a1c79', name='__start__', path=('__pregel_pull', '__start__'), error=None, interrupts=(), state=None, result={'input': 'start'}),), interrupts=())]"
            ]
          },
          "metadata": {},
          "execution_count": 38
        }
      ]
    }
  ]
}