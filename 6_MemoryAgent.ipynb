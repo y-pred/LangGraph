{
  "nbformat": 4,
  "nbformat_minor": 0,
  "metadata": {
    "colab": {
      "provenance": []
    },
    "kernelspec": {
      "name": "python3",
      "display_name": "Python 3"
    },
    "language_info": {
      "name": "python"
    }
  },
  "cells": [
    {
      "cell_type": "code",
      "source": [
        "!pip install langchain\n",
        "!pip install openai\n",
        "!pip install langchain-community langchain\n",
        "!pip install langgraph\n",
        "!pip install -U langchain langchain-openai"
      ],
      "metadata": {
        "id": "oMt3OfV1IO4C"
      },
      "execution_count": null,
      "outputs": []
    },
    {
      "cell_type": "code",
      "execution_count": 2,
      "metadata": {
        "id": "F7fZ1rBrINm1"
      },
      "outputs": [],
      "source": [
        "import os\n",
        "\n",
        "os.environ[\"OPENAI_API_KEY\"] = 'OPENAI_API_KEY'\n",
        "os.environ[\"LANGCHAIN_TRACING_V2\"] = \"true\"\n",
        "os.environ[\"LANGCHAIN_API_KEY\"] = 'LANGCHAIN_API_KEY'\n",
        "os.environ[\"LANGCHAIN_PROJECT\"] = \"Langgraph Agents\"\n",
        "os.environ[\"LANGSMITH_ENDPOINT\"] = \"https://api.smith.langchain.com\""
      ]
    },
    {
      "cell_type": "code",
      "source": [
        "from langchain.chat_models import ChatOpenAI\n",
        "from langgraph.graph import StateGraph, START, END\n",
        "from typing import TypedDict, List, Union\n",
        "from langchain_core.messages import HumanMessage, AIMessage"
      ],
      "metadata": {
        "id": "drF6TaaqFS9M"
      },
      "execution_count": 3,
      "outputs": []
    },
    {
      "cell_type": "code",
      "source": [
        "class MemoryAgent(TypedDict):\n",
        "  messages: List[Union[HumanMessage,AIMessage]]"
      ],
      "metadata": {
        "id": "5RfxbUfNFXUV"
      },
      "execution_count": 4,
      "outputs": []
    },
    {
      "cell_type": "code",
      "source": [
        "llm = ChatOpenAI(model=\"gpt-4o\")"
      ],
      "metadata": {
        "colab": {
          "base_uri": "https://localhost:8080/"
        },
        "id": "aV9yUlhvGa2c",
        "outputId": "a33a8c5f-2c2b-4e59-e6d0-60cba1232881"
      },
      "execution_count": 5,
      "outputs": [
        {
          "output_type": "stream",
          "name": "stderr",
          "text": [
            "/tmp/ipython-input-5-385969250.py:1: LangChainDeprecationWarning: The class `ChatOpenAI` was deprecated in LangChain 0.0.10 and will be removed in 1.0. An updated version of the class exists in the :class:`~langchain-openai package and should be used instead. To use it run `pip install -U :class:`~langchain-openai` and import as `from :class:`~langchain_openai import ChatOpenAI``.\n",
            "  llm = ChatOpenAI(model=\"gpt-4o\")\n"
          ]
        }
      ]
    },
    {
      "cell_type": "code",
      "source": [
        "def process(state:MemoryAgent) -> MemoryAgent:\n",
        "  \"\"\"This node will solve the request you input\"\"\"\n",
        "  response = llm.invoke(state['messages'])\n",
        "  state['messages'].append(AIMessage(content=response.content))\n",
        "  print(\"AI: \", response.content)\n",
        "\n",
        "  return state"
      ],
      "metadata": {
        "id": "ALtAOCdOGT6_"
      },
      "execution_count": 6,
      "outputs": []
    },
    {
      "cell_type": "code",
      "source": [
        "graph = StateGraph(MemoryAgent)\n",
        "\n",
        "graph.add_node('process',process)\n",
        "\n",
        "graph.add_edge(START,'process')\n",
        "graph.add_edge('process',END)\n",
        "\n",
        "graph.compile()"
      ],
      "metadata": {
        "colab": {
          "base_uri": "https://localhost:8080/",
          "height": 251
        },
        "id": "n5-wWuGwHD9N",
        "outputId": "f4d10885-8bcf-43d9-f76f-6cbc8087a736"
      },
      "execution_count": 7,
      "outputs": [
        {
          "output_type": "execute_result",
          "data": {
            "text/plain": [
              "<langgraph.graph.state.CompiledStateGraph object at 0x79fac6fafc90>"
            ],
            "image/png": "[encoded data removed]"
          },
          "metadata": {},
          "execution_count": 7
        }
      ]
    },
    {
      "cell_type": "code",
      "source": [
        "app = graph.compile()"
      ],
      "metadata": {
        "id": "3hTA6wLNJHGo"
      },
      "execution_count": 8,
      "outputs": []
    },
    {
      "cell_type": "code",
      "source": [
        "conversation_history = []\n",
        "\n",
        "user_input = input(\"Enter: \")\n",
        "while user_input != \"exit\":\n",
        "    conversation_history.append(HumanMessage(content=user_input))\n",
        "    print(\"History: \", conversation_history)\n",
        "    result = app.invoke({\"messages\": conversation_history})\n",
        "    print(result)\n",
        "    conversation_history = result['messages']\n",
        "    print(\"Conversation History:\", conversation_history)\n",
        "    user_input = input(\"Enter: \")"
      ],
      "metadata": {
        "colab": {
          "base_uri": "https://localhost:8080/"
        },
        "id": "I3V578ndHdIF",
        "outputId": "194209bf-520f-4d3d-814f-75efd05337d7"
      },
      "execution_count": 12,
      "outputs": [
        {
          "name": "stdout",
          "output_type": "stream",
          "text": [
            "Enter: hi\n",
            "History:  [HumanMessage(content='hi', additional_kwargs={}, response_metadata={})]\n",
            "AI:  Hello! How can I assist you today?\n",
            "{'messages': [HumanMessage(content='hi', additional_kwargs={}, response_metadata={}), AIMessage(content='Hello! How can I assist you today?', additional_kwargs={}, response_metadata={})]}\n",
            "Conversation History: [HumanMessage(content='hi', additional_kwargs={}, response_metadata={}), AIMessage(content='Hello! How can I assist you today?', additional_kwargs={}, response_metadata={})]\n",
            "Enter: my name is Ash\n",
            "History:  [HumanMessage(content='hi', additional_kwargs={}, response_metadata={}), AIMessage(content='Hello! How can I assist you today?', additional_kwargs={}, response_metadata={}), HumanMessage(content='my name is Ash', additional_kwargs={}, response_metadata={})]\n",
            "AI:  Hi Ash! It's nice to meet you. How can I help you today?\n",
            "{'messages': [HumanMessage(content='hi', additional_kwargs={}, response_metadata={}), AIMessage(content='Hello! How can I assist you today?', additional_kwargs={}, response_metadata={}), HumanMessage(content='my name is Ash', additional_kwargs={}, response_metadata={}), AIMessage(content=\"Hi Ash! It's nice to meet you. How can I help you today?\", additional_kwargs={}, response_metadata={})]}\n",
            "Conversation History: [HumanMessage(content='hi', additional_kwargs={}, response_metadata={}), AIMessage(content='Hello! How can I assist you today?', additional_kwargs={}, response_metadata={}), HumanMessage(content='my name is Ash', additional_kwargs={}, response_metadata={}), AIMessage(content=\"Hi Ash! It's nice to meet you. How can I help you today?\", additional_kwargs={}, response_metadata={})]\n",
            "Enter: exit\n"
          ]
        }
      ]
    }
  ]
}