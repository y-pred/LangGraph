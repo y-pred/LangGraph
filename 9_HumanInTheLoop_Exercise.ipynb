{
  "nbformat": 4,
  "nbformat_minor": 0,
  "metadata": {
    "colab": {
      "provenance": []
    },
    "kernelspec": {
      "name": "python3",
      "display_name": "Python 3"
    },
    "language_info": {
      "name": "python"
    }
  },
  "cells": [
    {
      "cell_type": "code",
      "execution_count": null,
      "metadata": {
        "id": "JYW68DH5M1Vk"
      },
      "outputs": [],
      "source": [
        "!pip install langchain\n",
        "!pip install openai\n",
        "!pip install langchain-community langchain\n",
        "!pip install langgraph\n",
        "!pip install -U langchain langchain-openai"
      ]
    },
    {
      "cell_type": "code",
      "source": [
        "import os\n",
        "os.environ[\"OPENAI_API_KEY\"] = 'OPENAI_API_KEY'\n",
        "os.environ[\"LANGCHAIN_TRACING_V2\"] = \"true\"\n",
        "os.environ[\"LANGCHAIN_API_KEY\"] = 'LANGCHAIN_API_KEY'\n",
        "os.environ[\"LANGCHAIN_PROJECT\"] = \"Langgraph_1\"\n",
        "os.environ[\"LANGSMITH_ENDPOINT\"] = \"https://api.smith.langchain.com\""
      ],
      "metadata": {
        "id": "kpcTgpScM29l"
      },
      "execution_count": 13,
      "outputs": []
    },
    {
      "cell_type": "code",
      "source": [
        "from langgraph.graph import StateGraph, START, END\n",
        "from typing import TypedDict, Annotated\n",
        "from langchain_openai import ChatOpenAI\n",
        "from langgraph.checkpoint.memory import InMemorySaver\n",
        "from langgraph.prebuilt import interrupt"
      ],
      "metadata": {
        "id": "-MXiRzdqM4YM"
      },
      "execution_count": 26,
      "outputs": []
    },
    {
      "cell_type": "code",
      "source": [
        "class EmailState(TypedDict):\n",
        "  prompt: Annotated[str, \"User-provided prompt for the draft\"]\n",
        "  draft: Annotated[str, \"LLM Generated draft email\"]\n",
        "  approved: Annotated[bool, \"Whether the email is approved by the user\"]\n",
        "  final_email: Annotated[str, \"Final email to send\"]"
      ],
      "metadata": {
        "id": "bU7PvNpkODhD"
      },
      "execution_count": 36,
      "outputs": []
    },
    {
      "cell_type": "code",
      "source": [
        "from langchain_openai import ChatOpenAI\n",
        "\n",
        "llm = ChatOpenAI()\n",
        "\n",
        "def draft_email(state: EmailState) -> EmailState:\n",
        "  user_prompt = state['prompt']\n",
        "  draft = llm.invoke(user_prompt).content\n",
        "  return {\"draft\": draft, \"approved\": False}\n",
        "\n",
        "def check_for_approval(state: EmailState)-> str:\n",
        "  while True:\n",
        "        print(\"\\n--- AI Generated Draft ---\")\n",
        "        print(state[\"draft\"])\n",
        "        print(\"---------------------------\")\n",
        "        decision = input(\"Do you approve this draft? (yes/no): \").strip().lower()\n",
        "\n",
        "        if decision == \"yes\":\n",
        "            return {\"approved\": True}\n",
        "        else:\n",
        "            revision = input(\"Enter revision instructions: \")\n",
        "            prompt = f\"\"\"\n",
        "You are refining an email draft based on human feedback.\n",
        "\n",
        "Original draft:\n",
        "{state['draft']}\n",
        "\n",
        "Human feedback:\n",
        "{revision}\n",
        "\n",
        "Please rewrite the email draft accordingly, keeping the professional email format.\n",
        "\"\"\"\n",
        "            revised_draft = llm.invoke(prompt).content\n",
        "            state[\"draft\"] = revised_draft  # update draft\n",
        "\n",
        "def finalize_email(state: EmailState):\n",
        "  if state[\"approved\"]:\n",
        "    return {\"final_email\": state[\"draft\"]}\n",
        "  else:\n",
        "    return {\"final_email\": \"Email needs revision\"}"
      ],
      "metadata": {
        "id": "wmK5cJEvPFud"
      },
      "execution_count": 43,
      "outputs": []
    },
    {
      "cell_type": "code",
      "source": [
        "# 5. Build the graph\n",
        "builder = StateGraph(EmailState)\n",
        "builder.add_node(\"generate_draft\", draft_email)\n",
        "builder.add_node(\"human_approval\", check_for_approval)\n",
        "builder.add_node(\"finalize_email\", finalize_email)\n",
        "\n",
        "builder.set_entry_point(\"generate_draft\")\n",
        "builder.add_edge(\"generate_draft\", \"human_approval\")\n",
        "builder.add_edge(\"human_approval\", \"finalize_email\")\n",
        "builder.add_edge(\"finalize_email\", END)\n",
        "\n",
        "checkpointer = InMemorySaver()\n",
        "graph = builder.compile(checkpointer=checkpointer)"
      ],
      "metadata": {
        "id": "9z5nGFTYTCYU"
      },
      "execution_count": 44,
      "outputs": []
    },
    {
      "cell_type": "code",
      "source": [
        "# Ask user if they want to resume or start fresh\n",
        "choice = input(\"Do you want to resume previous session? (yes/no): \").strip().lower()\n",
        "\n",
        "if choice == \"no\":\n",
        "    # start new flow\n",
        "    user_prompt = input(\"Enter your email request: \")\n",
        "    initial_state = {\n",
        "        \"prompt\": user_prompt,\n",
        "        \"draft\": \"\",\n",
        "        \"approved\": False,\n",
        "        \"final_email\": \"\"\n",
        "    }\n",
        "    result = graph.invoke(initial_state, config={\"configurable\": {\"thread_id\": \"thread_1\"}})\n",
        "else:\n",
        "    # resume previous flow\n",
        "    result = graph.invoke(None, config={\"configurable\": {\"thread_id\": \"thread_1\"}})\n",
        "\n",
        "print(\"\\n✅ Final Email Output:\")\n",
        "print(result[\"final_email\"])"
      ],
      "metadata": {
        "colab": {
          "base_uri": "https://localhost:8080/"
        },
        "id": "KC03o5mRTLk0",
        "outputId": "1cc7b7c3-4d15-48a6-f033-e1a63df918c7"
      },
      "execution_count": 46,
      "outputs": [
        {
          "output_type": "stream",
          "name": "stdout",
          "text": [
            "Do you want to resume previous session? (yes/no): yes\n",
            "\n",
            "--- AI Generated Draft ---\n",
            "Subject: Please Sign the Statement of Work\n",
            "\n",
            "Dear Peter,\n",
            "\n",
            "I hope this email finds you well. I am writing to kindly request your signature on the Statement of Work (SoW) for our upcoming project. This document outlines the scope of work, deliverables, timelines, and responsibilities for both parties involved.\n",
            "\n",
            "Your signature is crucial in finalizing this agreement and ensuring that we are all on the same page regarding the project details. Please take a moment to review the SoW and let me know if you have any questions or concerns before signing.\n",
            "\n",
            "Once you have signed the document, please scan and send it back to me at your earliest convenience. If you prefer to sign it in person, we can arrange a time to meet and finalize the details.\n",
            "\n",
            "Thank you for your prompt attention to this matter. I look forward to working together on this project and achieving our shared goals.\n",
            "\n",
            "Best regards,\n",
            "\n",
            "[Your Name] \n",
            "[Your Title] \n",
            "[Your Contact Information]\n",
            "---------------------------\n",
            "Do you approve this draft? (yes/no): yes\n",
            "\n",
            "✅ Final Email Output:\n",
            "Subject: Please Sign the Statement of Work\n",
            "\n",
            "Dear Peter,\n",
            "\n",
            "I hope this email finds you well. I am writing to kindly request your signature on the Statement of Work (SoW) for our upcoming project. This document outlines the scope of work, deliverables, timelines, and responsibilities for both parties involved.\n",
            "\n",
            "Your signature is crucial in finalizing this agreement and ensuring that we are all on the same page regarding the project details. Please take a moment to review the SoW and let me know if you have any questions or concerns before signing.\n",
            "\n",
            "Once you have signed the document, please scan and send it back to me at your earliest convenience. If you prefer to sign it in person, we can arrange a time to meet and finalize the details.\n",
            "\n",
            "Thank you for your prompt attention to this matter. I look forward to working together on this project and achieving our shared goals.\n",
            "\n",
            "Best regards,\n",
            "\n",
            "[Your Name] \n",
            "[Your Title] \n",
            "[Your Contact Information]\n"
          ]
        }
      ]
    },
    {
      "cell_type": "code",
      "source": [
        "graph.get_state({\n",
        "    \"configurable\": {\"thread_id\": 'thread_1'}\n",
        "    })"
      ],
      "metadata": {
        "colab": {
          "base_uri": "https://localhost:8080/"
        },
        "id": "Ly8zjqd7U2LG",
        "outputId": "dc9d718d-9aef-4783-f47b-50d185e2bdf0"
      },
      "execution_count": 47,
      "outputs": [
        {
          "output_type": "execute_result",
          "data": {
            "text/plain": [
              "StateSnapshot(values={'prompt': 'write email to Peter to sign the SoW', 'draft': 'Subject: Please Sign the Statement of Work\\n\\nDear Peter,\\n\\nI hope this email finds you well. I am writing to kindly request your signature on the Statement of Work (SoW) for our upcoming project. This document outlines the scope of work, deliverables, timelines, and responsibilities for both parties involved.\\n\\nYour signature is crucial in finalizing this agreement and ensuring that we are all on the same page regarding the project details. Please take a moment to review the SoW and let me know if you have any questions or concerns before signing.\\n\\nOnce you have signed the document, please scan and send it back to me at your earliest convenience. If you prefer to sign it in person, we can arrange a time to meet and finalize the details.\\n\\nThank you for your prompt attention to this matter. I look forward to working together on this project and achieving our shared goals.\\n\\nBest regards,\\n\\n[Your Name] \\n[Your Title] \\n[Your Contact Information]', 'approved': True, 'final_email': 'Subject: Please Sign the Statement of Work\\n\\nDear Peter,\\n\\nI hope this email finds you well. I am writing to kindly request your signature on the Statement of Work (SoW) for our upcoming project. This document outlines the scope of work, deliverables, timelines, and responsibilities for both parties involved.\\n\\nYour signature is crucial in finalizing this agreement and ensuring that we are all on the same page regarding the project details. Please take a moment to review the SoW and let me know if you have any questions or concerns before signing.\\n\\nOnce you have signed the document, please scan and send it back to me at your earliest convenience. If you prefer to sign it in person, we can arrange a time to meet and finalize the details.\\n\\nThank you for your prompt attention to this matter. I look forward to working together on this project and achieving our shared goals.\\n\\nBest regards,\\n\\n[Your Name] \\n[Your Title] \\n[Your Contact Information]'}, next=(), config={'configurable': {'thread_id': 'thread_1', 'checkpoint_ns': '', 'checkpoint_id': '1f07b283-8716-609f-8003-43243db4a05d'}}, metadata={'source': 'loop', 'step': 3, 'parents': {}}, created_at='2025-08-17T05:08:32.434789+00:00', parent_config={'configurable': {'thread_id': 'thread_1', 'checkpoint_ns': '', 'checkpoint_id': '1f07b283-8712-6121-8002-7889f79ca152'}}, tasks=(), interrupts=())"
            ]
          },
          "metadata": {},
          "execution_count": 47
        }
      ]
    },
    {
      "cell_type": "code",
      "source": [
        "list(graph.get_state_history({\n",
        "    \"configurable\": {\"thread_id\": 'thread_1'}\n",
        "    }))"
      ],
      "metadata": {
        "colab": {
          "base_uri": "https://localhost:8080/"
        },
        "id": "2dwyksQiVISj",
        "outputId": "8212ff81-e4d8-4ab9-b2f5-b2d58dd98f44"
      },
      "execution_count": 48,
      "outputs": [
        {
          "output_type": "execute_result",
          "data": {
            "text/plain": [
              "[StateSnapshot(values={'prompt': 'write email to Peter to sign the SoW', 'draft': 'Subject: Please Sign the Statement of Work\\n\\nDear Peter,\\n\\nI hope this email finds you well. I am writing to kindly request your signature on the Statement of Work (SoW) for our upcoming project. This document outlines the scope of work, deliverables, timelines, and responsibilities for both parties involved.\\n\\nYour signature is crucial in finalizing this agreement and ensuring that we are all on the same page regarding the project details. Please take a moment to review the SoW and let me know if you have any questions or concerns before signing.\\n\\nOnce you have signed the document, please scan and send it back to me at your earliest convenience. If you prefer to sign it in person, we can arrange a time to meet and finalize the details.\\n\\nThank you for your prompt attention to this matter. I look forward to working together on this project and achieving our shared goals.\\n\\nBest regards,\\n\\n[Your Name] \\n[Your Title] \\n[Your Contact Information]', 'approved': True, 'final_email': 'Subject: Please Sign the Statement of Work\\n\\nDear Peter,\\n\\nI hope this email finds you well. I am writing to kindly request your signature on the Statement of Work (SoW) for our upcoming project. This document outlines the scope of work, deliverables, timelines, and responsibilities for both parties involved.\\n\\nYour signature is crucial in finalizing this agreement and ensuring that we are all on the same page regarding the project details. Please take a moment to review the SoW and let me know if you have any questions or concerns before signing.\\n\\nOnce you have signed the document, please scan and send it back to me at your earliest convenience. If you prefer to sign it in person, we can arrange a time to meet and finalize the details.\\n\\nThank you for your prompt attention to this matter. I look forward to working together on this project and achieving our shared goals.\\n\\nBest regards,\\n\\n[Your Name] \\n[Your Title] \\n[Your Contact Information]'}, next=(), config={'configurable': {'thread_id': 'thread_1', 'checkpoint_ns': '', 'checkpoint_id': '1f07b283-8716-609f-8003-43243db4a05d'}}, metadata={'source': 'loop', 'step': 3, 'parents': {}}, created_at='2025-08-17T05:08:32.434789+00:00', parent_config={'configurable': {'thread_id': 'thread_1', 'checkpoint_ns': '', 'checkpoint_id': '1f07b283-8712-6121-8002-7889f79ca152'}}, tasks=(), interrupts=()),\n",
              " StateSnapshot(values={'prompt': 'write email to Peter to sign the SoW', 'draft': 'Subject: Please Sign the Statement of Work\\n\\nDear Peter,\\n\\nI hope this email finds you well. I am writing to kindly request your signature on the Statement of Work (SoW) for our upcoming project. This document outlines the scope of work, deliverables, timelines, and responsibilities for both parties involved.\\n\\nYour signature is crucial in finalizing this agreement and ensuring that we are all on the same page regarding the project details. Please take a moment to review the SoW and let me know if you have any questions or concerns before signing.\\n\\nOnce you have signed the document, please scan and send it back to me at your earliest convenience. If you prefer to sign it in person, we can arrange a time to meet and finalize the details.\\n\\nThank you for your prompt attention to this matter. I look forward to working together on this project and achieving our shared goals.\\n\\nBest regards,\\n\\n[Your Name] \\n[Your Title] \\n[Your Contact Information]', 'approved': True, 'final_email': ''}, next=('finalize_email',), config={'configurable': {'thread_id': 'thread_1', 'checkpoint_ns': '', 'checkpoint_id': '1f07b283-8712-6121-8002-7889f79ca152'}}, metadata={'source': 'loop', 'step': 2, 'parents': {}}, created_at='2025-08-17T05:08:32.433158+00:00', parent_config={'configurable': {'thread_id': 'thread_1', 'checkpoint_ns': '', 'checkpoint_id': '1f07b27f-c4b1-64d4-8001-d3617baea1fb'}}, tasks=(PregelTask(id='9c4f4e98-222d-02a5-82bc-4e8d0da09dc1', name='finalize_email', path=('__pregel_pull', 'finalize_email'), error=None, interrupts=(), state=None, result={'final_email': 'Subject: Please Sign the Statement of Work\\n\\nDear Peter,\\n\\nI hope this email finds you well. I am writing to kindly request your signature on the Statement of Work (SoW) for our upcoming project. This document outlines the scope of work, deliverables, timelines, and responsibilities for both parties involved.\\n\\nYour signature is crucial in finalizing this agreement and ensuring that we are all on the same page regarding the project details. Please take a moment to review the SoW and let me know if you have any questions or concerns before signing.\\n\\nOnce you have signed the document, please scan and send it back to me at your earliest convenience. If you prefer to sign it in person, we can arrange a time to meet and finalize the details.\\n\\nThank you for your prompt attention to this matter. I look forward to working together on this project and achieving our shared goals.\\n\\nBest regards,\\n\\n[Your Name] \\n[Your Title] \\n[Your Contact Information]'}),), interrupts=()),\n",
              " StateSnapshot(values={'prompt': 'write email to Peter to sign the SoW', 'draft': 'Subject: Please Sign the Statement of Work\\n\\nDear Peter,\\n\\nI hope this email finds you well. I am writing to kindly request your signature on the Statement of Work (SoW) for our upcoming project. This document outlines the scope of work, deliverables, timelines, and responsibilities for both parties involved.\\n\\nYour signature is crucial in finalizing this agreement and ensuring that we are all on the same page regarding the project details. Please take a moment to review the SoW and let me know if you have any questions or concerns before signing.\\n\\nOnce you have signed the document, please scan and send it back to me at your earliest convenience. If you prefer to sign it in person, we can arrange a time to meet and finalize the details.\\n\\nThank you for your prompt attention to this matter. I look forward to working together on this project and achieving our shared goals.\\n\\nBest regards,\\n\\n[Your Name] \\n[Your Title] \\n[Your Contact Information]', 'approved': False, 'final_email': ''}, next=('human_approval',), config={'configurable': {'thread_id': 'thread_1', 'checkpoint_ns': '', 'checkpoint_id': '1f07b27f-c4b1-64d4-8001-d3617baea1fb'}}, metadata={'source': 'loop', 'step': 1, 'parents': {}}, created_at='2025-08-17T05:06:51.520509+00:00', parent_config={'configurable': {'thread_id': 'thread_1', 'checkpoint_ns': '', 'checkpoint_id': '1f07b27f-b7f7-6e93-8000-da34580cf45a'}}, tasks=(PregelTask(id='22297816-01d7-1bd6-74a9-fa6661008eff', name='human_approval', path=('__pregel_pull', 'human_approval'), error=None, interrupts=(), state=None, result={'approved': True}),), interrupts=()),\n",
              " StateSnapshot(values={'prompt': 'write email to Peter to sign the SoW', 'draft': '', 'approved': False, 'final_email': ''}, next=('generate_draft',), config={'configurable': {'thread_id': 'thread_1', 'checkpoint_ns': '', 'checkpoint_id': '1f07b27f-b7f7-6e93-8000-da34580cf45a'}}, metadata={'source': 'loop', 'step': 0, 'parents': {}}, created_at='2025-08-17T05:06:50.186273+00:00', parent_config={'configurable': {'thread_id': 'thread_1', 'checkpoint_ns': '', 'checkpoint_id': '1f07b27f-b7f3-623c-bfff-f117d70ec98f'}}, tasks=(PregelTask(id='def49505-24ee-bff9-d0e1-ebb60307835b', name='generate_draft', path=('__pregel_pull', 'generate_draft'), error=None, interrupts=(), state=None, result={'draft': 'Subject: Please Sign the Statement of Work\\n\\nDear Peter,\\n\\nI hope this email finds you well. I am writing to kindly request your signature on the Statement of Work (SoW) for our upcoming project. This document outlines the scope of work, deliverables, timelines, and responsibilities for both parties involved.\\n\\nYour signature is crucial in finalizing this agreement and ensuring that we are all on the same page regarding the project details. Please take a moment to review the SoW and let me know if you have any questions or concerns before signing.\\n\\nOnce you have signed the document, please scan and send it back to me at your earliest convenience. If you prefer to sign it in person, we can arrange a time to meet and finalize the details.\\n\\nThank you for your prompt attention to this matter. I look forward to working together on this project and achieving our shared goals.\\n\\nBest regards,\\n\\n[Your Name] \\n[Your Title] \\n[Your Contact Information]', 'approved': False}),), interrupts=()),\n",
              " StateSnapshot(values={}, next=('__start__',), config={'configurable': {'thread_id': 'thread_1', 'checkpoint_ns': '', 'checkpoint_id': '1f07b27f-b7f3-623c-bfff-f117d70ec98f'}}, metadata={'source': 'input', 'step': -1, 'parents': {}}, created_at='2025-08-17T05:06:50.184333+00:00', parent_config=None, tasks=(PregelTask(id='eb7811e5-57f2-5843-691a-bdc449d53520', name='__start__', path=('__pregel_pull', '__start__'), error=None, interrupts=(), state=None, result={'prompt': 'write email to Peter to sign the SoW', 'draft': '', 'approved': False, 'final_email': ''}),), interrupts=())]"
            ]
          },
          "metadata": {},
          "execution_count": 48
        }
      ]
    }
  ]
}